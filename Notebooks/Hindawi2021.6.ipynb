{
  "nbformat": 4,
  "nbformat_minor": 0,
  "metadata": {
    "kernelspec": {
      "display_name": "Python 3",
      "language": "python",
      "name": "python3"
    },
    "language_info": {
      "codemirror_mode": {
        "name": "ipython",
        "version": 3
      },
      "file_extension": ".py",
      "mimetype": "text/x-python",
      "name": "python",
      "nbconvert_exporter": "python",
      "pygments_lexer": "ipython3",
      "version": "3.8.2"
    },
    "colab": {
      "name": "Hindawi2021.6.ipynb",
      "provenance": [],
      "collapsed_sections": []
    }
  },
  "cells": [
    {
      "cell_type": "markdown",
      "metadata": {
        "id": "rgm32XQ-MKcw"
      },
      "source": [
        "\n",
        "\n",
        "```\n",
        "# This is formatted as code\n",
        "```\n",
        "\n",
        "# Hindawi 2021.6\n",
        "\n",
        "Hindawi 2021.6 is the second update to Hindawi Programming System based on IPython (Jupyter) Notebooks\n",
        "Copyright (C) 2003-2023 Abhishek Choudhary\n",
        "Released on GNU GPL v2 license\n",
        "\n",
        "## Environment (details to be updated)\n",
        "### On a Ubuntu 18.04 LTS or later host\n",
        "Note: You can use the \"free\" ubuntu VMs available on Google Cloud, Azure Cloud, AWS etc.\n",
        "```bash\n",
        "mkdir ~/hinwork\n",
        "cd ~/hinwork\n",
        "sudo apt update && sudo apt install docker.io\n",
        "sudo groupadd docker && sudo usermod -aG docker ${USER}\n",
        "docker pull ayeai/hindawi\n",
        "killall screen\n",
        "docker stop hindawi\n",
        "docker rm hindawi\n",
        "screen -dmS hindawi docker run -v $(pwd):/home/hindawi/work -p 80:80 -p 8888:8888 --name hindawi -u hindawi -w /home/hindawi -it ayeai/hindawi bash\n",
        "printf \"Waiting for container \\\"hindawi\\\"... \"; while [ $(docker ps | grep hindawi | wc -l) -lt 1 ]; do printf .; sleep 1; done; echo Container \"hindawi\" started\n",
        "docker exec -w /home/hindawi/work hindawi cp -r ~/hindawi2020/Hindawi/samples/ ./\n",
        "# Hindi BASIC\n",
        "docker exec -w /home/hindawi/work hindawi hincc samples/HindiBASIC.uhin\n",
        "docker exec -w /home/hindawi/work -it hindawi bash -c 'echo 5 | ./hin.exe'\n",
        "# Hindi C\n",
        "docker exec -w /home/hindawi/work hindawi hincc samples/HindiC.uhin\n",
        "docker exec -w /home/hindawi/work -it hindawi bash -c 'printf \"hindawi\\n5\\n\" | ./hin.exe'\n",
        "# Hindi C++\n",
        "docker exec -w /home/hindawi/work hindawi hincc samples/HindiC++.uhin\n",
        "docker exec -w /home/hindawi/work -it hindawi ./hin.exe\n",
        "# Hindi Assembly (x86)\n",
        "docker exec -w /home/hindawi/work hindawi hincc samples/HindiASM.uhin\n",
        "docker exec -w /home/hindawi/work -it hindawi ./hin.exe\n",
        "# Hindi LEX\n",
        "docker exec -w /home/hindawi/work hindawi hincc samples/HindiLEX.uhin\n",
        "docker exec -w /home/hindawi/work -it hindawi bash -c 'printf \"abbbba\\n\" | ./hin.exe'\n",
        "# Hindi YACC\n",
        "docker exec -w /home/hindawi/work hindawi hincc samples/HindiYACC.uhin\n",
        "docker exec -w /home/hindawi/work -it hindawi bash -c 'printf \"(2+3)/4-1\\n\" | ./hin.exe'\n",
        "```\n",
        "TBD: Need to add jupyter-notebook into the hindawi image\n",
        "Start jupyter server as\n",
        "jupyter-notebook --no-browser --ip=0.0.0.0 --port=8888\n",
        "Add this notebook to github\n",
        "\n",
        "### On [play with docker](https://labs.play-with-docker.com/)\n",
        "```bash\n",
        "docker pull ayeai/hindawi\n",
        "docker run -v $(pwd):/home/hindawi/work -p 80:80 -p 8888:8888 --name hindawi -u hindawi -w /home/hindawi -it ayeai/hindawi bash\n",
        "```\n",
        "\n",
        "### On [Google Colab](https://colab.research.google.com/)\n",
        "Use the open in Google Colab button in the repository\n",
        "\n",
        "Notice: Hindawi and Hindawi logo are trademarks of Abhishek Choudhary used since 2004. All trademarks mentioned are acknowledged as belonging to their respective owners. Reference in academic context does not imply any affiliation with or endorsement by them.\n",
        "\n"
      ]
    },
    {
      "cell_type": "code",
      "metadata": {
        "id": "fEf5G-CzMb3M",
        "colab": {
          "base_uri": "https://localhost:8080/"
        },
        "cellView": "form",
        "outputId": "3f004998-9293-4f34-deee-dd45a2154908"
      },
      "source": [
        "#@title Initialize\n",
        "%%shell\n",
        "\n",
        "printf \"Installing prerequisites... \"\n",
        "sudo apt install gawk flex bison php-iconv &>/dev/null\n",
        "echo \"Done\"\n",
        "\n",
        "printf \"Cloning Hindawi2020 repo... \"\n",
        "git clone https://github.com/hindawiai/hindawi2020 &>/dev/null\n",
        "echo \"Done\"\n",
        "if [ 0 -lt $(pip3 freeze | grep google.colab | wc -l) ]\n",
        "then\n",
        "  echo \"Executing preamble for non-docker platforms... \"\n",
        "  cd hindawi2020\n",
        "\n",
        "  for n in HindawiUI HindawiLauncher Romenagri RomenagriUI RomenagriMail\\\n",
        "          Hindawi/guru Hindawi/hindrv Hindawi/kritrima Hindawi/praatha\\\n",
        "          Hindawi/shabda Hindawi/shraeni Hindawi/wyaaka Hindawi/yantra\\\n",
        "          Hindawi/others/fasm Hindawi/others/qb2c;\n",
        "  do\n",
        "    pushd $n &>/dev/null\n",
        "    printf \"Building in $n... \"\n",
        "    make all &>/dev/null\n",
        "    make install &>/dev/null\n",
        "    make clean_all &>/dev/null\n",
        "    echo \"Done\"\n",
        "    popd &>/dev/null\n",
        "  done\n",
        "  echo \"Completed preamble for non-docker platforms.\"\n",
        "fi\n",
        "#TBD: APCISR not built\n"
      ],
      "execution_count": 1,
      "outputs": [
        {
          "output_type": "stream",
          "text": [
            "Installing prerequisites... Done\n",
            "Cloning Hindawi2020 repo... Done\n",
            "Executing preamble for non-docker platforms... \n",
            "Building in HindawiUI... Done\n",
            "Building in HindawiLauncher... Done\n",
            "Building in Romenagri... Done\n",
            "Building in RomenagriUI... Done\n",
            "Building in RomenagriMail... Done\n",
            "Building in Hindawi/guru... Done\n",
            "Building in Hindawi/hindrv... Done\n",
            "Building in Hindawi/kritrima... Done\n",
            "Building in Hindawi/praatha... Done\n",
            "Building in Hindawi/shabda... Done\n",
            "Building in Hindawi/shraeni... Done\n",
            "Building in Hindawi/wyaaka... Done\n",
            "Building in Hindawi/yantra... Done\n",
            "Building in Hindawi/others/fasm... Done\n",
            "Building in Hindawi/others/qb2c... Done\n",
            "Completed preamble for non-docker platforms.\n"
          ],
          "name": "stdout"
        },
        {
          "output_type": "execute_result",
          "data": {
            "text/plain": [
              ""
            ]
          },
          "metadata": {
            "tags": []
          },
          "execution_count": 1
        }
      ]
    },
    {
      "cell_type": "code",
      "metadata": {
        "scrolled": false,
        "id": "8Dr6rgxZMKcy",
        "colab": {
          "base_uri": "https://localhost:8080/"
        },
        "outputId": "499330b8-6b9b-4d89-967d-2300f5dd6f06"
      },
      "source": [
        "%%writefile myBASIC.uhin\n",
        "पूछो \"ऊँचाई: \", न\n",
        "लिखो न\n",
        "क्रम क = १ से न\n",
        "    क्रम ख = १ से (न - क)\n",
        "        लिखो \"   \";\n",
        "    क्रमांत ख\n",
        "    क्रम ग = १ से क\n",
        "        लिखो \"हिन्दवी  \";\n",
        "    क्रमांत ग\n",
        "    लिखो \"\"\n",
        "क्रमांत क\n",
        "क्रम क = (न - १) से १ गति -१\n",
        "    क्रम ख = १ से (न - क)\n",
        "        लिखो \"   \";\n",
        "    क्रमांत ख\n",
        "    क्रम ग = १ से क\n",
        "        लिखो \"हिन्दवी  \";\n",
        "    क्रमांत ग\n",
        "    लिखो \"\"\n",
        "क्रमांत क\n",
        "इति\n"
      ],
      "execution_count": 2,
      "outputs": [
        {
          "output_type": "stream",
          "text": [
            "Writing myBASIC.uhin\n"
          ],
          "name": "stdout"
        }
      ]
    },
    {
      "cell_type": "code",
      "metadata": {
        "id": "oZLGaXPsMKdI",
        "colab": {
          "base_uri": "https://localhost:8080/"
        },
        "outputId": "3e71af31-8de8-4066-a36f-2c4fc1a230c7"
      },
      "source": [
        "%%writefile inpBASIC.txt\n",
        "5\n"
      ],
      "execution_count": 3,
      "outputs": [
        {
          "output_type": "stream",
          "text": [
            "Writing inpBASIC.txt\n"
          ],
          "name": "stdout"
        }
      ]
    },
    {
      "cell_type": "code",
      "metadata": {
        "id": "r0-TRzr3MKdQ",
        "colab": {
          "base_uri": "https://localhost:8080/"
        },
        "outputId": "86141965-c46e-49c8-eeb5-6e285e2ecabb"
      },
      "source": [
        "%%shell\n",
        "\n",
        "#Do not edit below this line\n",
        "hincc myBASIC.uhin\n",
        "\n",
        "./hin.exe\n"
      ],
      "execution_count": 4,
      "outputs": [
        {
          "output_type": "stream",
          "text": [
            "संकलन के परिणाम\n",
            "============\n",
            "qb2c: translating  tempfil0123.tmphin.bas  -->  tempfil0123.tmphin.c\n",
            "Translation done in 0.01 sec.\n",
            "ऊँचाई: 6\n",
            " 6 \n",
            "               हिन्दवी  \n",
            "            हिन्दवी  हिन्दवी  \n",
            "         हिन्दवी  हिन्दवी  हिन्दवी  \n",
            "      हिन्दवी  हिन्दवी  हिन्दवी  हिन्दवी  \n",
            "   हिन्दवी  हिन्दवी  हिन्दवी  हिन्दवी  हिन्दवी  \n",
            "हिन्दवी  हिन्दवी  हिन्दवी  हिन्दवी  हिन्दवी  हिन्दवी  \n",
            "   हिन्दवी  हिन्दवी  हिन्दवी  हिन्दवी  हिन्दवी  \n",
            "      हिन्दवी  हिन्दवी  हिन्दवी  हिन्दवी  \n",
            "         हिन्दवी  हिन्दवी  हिन्दवी  \n",
            "            हिन्दवी  हिन्दवी  \n",
            "               हिन्दवी  \n"
          ],
          "name": "stdout"
        },
        {
          "output_type": "execute_result",
          "data": {
            "text/plain": [
              ""
            ]
          },
          "metadata": {
            "tags": []
          },
          "execution_count": 4
        }
      ]
    },
    {
      "cell_type": "code",
      "metadata": {
        "id": "RKwBJc0cMKdU",
        "colab": {
          "base_uri": "https://localhost:8080/"
        },
        "outputId": "16cc6888-4f5b-4187-b4ee-02f164f31ee1"
      },
      "source": [
        "%%writefile myC.uhin\n",
        "<शैली गुरु>\n",
        "#समावेश <मानकपन.स>\n",
        "\n",
        "पूर्णांक मुख्य()\n",
        "{\n",
        "    अक्षर अ[८०];\n",
        "    पूर्णांक क;\n",
        "    म_लिखो(\"आपका नाम क्या है?\\n\");\n",
        "    म_पूछो(\"%s\",अ);\n",
        "    म_लिखो(\"नमस्ते %s.\\n\",अ);\n",
        "    क्रम(क=1; क<=10; क++)\n",
        "        म_लिखो(\"%d\\n\",क);\n",
        "    वापस 0;\n",
        "}\n"
      ],
      "execution_count": 5,
      "outputs": [
        {
          "output_type": "stream",
          "text": [
            "Writing myC.uhin\n"
          ],
          "name": "stdout"
        }
      ]
    },
    {
      "cell_type": "code",
      "metadata": {
        "id": "Q9PNg5aXMKdY",
        "colab": {
          "base_uri": "https://localhost:8080/"
        },
        "outputId": "74e0b1e8-78f6-4275-bf5c-552c2d2df53d"
      },
      "source": [
        "%%writefile inpC.txt\n",
        "राकेष\n"
      ],
      "execution_count": 6,
      "outputs": [
        {
          "output_type": "stream",
          "text": [
            "Writing inpC.txt\n"
          ],
          "name": "stdout"
        }
      ]
    },
    {
      "cell_type": "code",
      "metadata": {
        "id": "CSSL6mk2MKdd",
        "colab": {
          "base_uri": "https://localhost:8080/"
        },
        "outputId": "c66ec555-243d-4537-dbd8-62a50b38b55a"
      },
      "source": [
        "%%bash\n",
        "\n",
        "hincc myC.uhin\n",
        "cat inpC.txt | ./hin.exe\n"
      ],
      "execution_count": 7,
      "outputs": [
        {
          "output_type": "stream",
          "text": [
            "संकलन के परिणाम\n",
            "============\n",
            "आपका नाम क्या है?\n",
            "नमस्ते राकेष.\n",
            "1\n",
            "2\n",
            "3\n",
            "4\n",
            "5\n",
            "6\n",
            "7\n",
            "8\n",
            "9\n",
            "10\n"
          ],
          "name": "stdout"
        }
      ]
    },
    {
      "cell_type": "code",
      "metadata": {
        "id": "Zxv-it2WMKdh",
        "colab": {
          "base_uri": "https://localhost:8080/"
        },
        "outputId": "3313227e-41e8-46bf-80cf-8ac4f60d6ce1"
      },
      "source": [
        "%%writefile myC++.uhin\n",
        "<शैली श्रेणी>\n",
        "#समावेश <मानकपन.स>\n",
        "\n",
        "श्रेणी जानवर\n",
        "{\n",
        "खुला:\n",
        "    भव व्योम लिखो()\n",
        "    {\n",
        "        म_लिखो(\"यह एक जानवर है।\\n\");\n",
        "    }\n",
        "};\n",
        "\n",
        "श्रेणी शेर : खुला जानवर\n",
        "{\n",
        "खुला:\n",
        "    व्योम लिखो()\n",
        "    {\n",
        "        म_लिखो(\"शेर एक जानवर है।\\n\");\n",
        "    }\n",
        "};\n",
        "\n",
        "श्रेणी चीता : खुला जानवर\n",
        "{\n",
        "खुला:\n",
        "    व्योम लिखो()\n",
        "    {\n",
        "        म_लिखो(\"चीता एक जानवर है।\\n\");\n",
        "    }\n",
        "};\n",
        "\n",
        "पूर्णांक मुख्य()\n",
        "{\n",
        "    जानवर ज, *ज१;\n",
        "    शेर श;\n",
        "    चीता च;\n",
        "\n",
        "    ज.लिखो();\n",
        "    श.लिखो();\n",
        "    च.लिखो();\n",
        "\n",
        "    ज१=&ज;\n",
        "    ज१->लिखो();\n",
        "    ज१=&श;\n",
        "    ज१->लिखो();\n",
        "    ज१=&च;\n",
        "    ज१->लिखो();\n",
        "\n",
        "    वापस 0;\n",
        "}\n"
      ],
      "execution_count": 8,
      "outputs": [
        {
          "output_type": "stream",
          "text": [
            "Writing myC++.uhin\n"
          ],
          "name": "stdout"
        }
      ]
    },
    {
      "cell_type": "code",
      "metadata": {
        "id": "AeJ35IabMKdm",
        "colab": {
          "base_uri": "https://localhost:8080/"
        },
        "outputId": "cf5c0a14-3bf0-4573-c1da-d0856428e34a"
      },
      "source": [
        "%%writefile inpC++.txt\n",
        "Enter inputs here, if any"
      ],
      "execution_count": 9,
      "outputs": [
        {
          "output_type": "stream",
          "text": [
            "Writing inpC++.txt\n"
          ],
          "name": "stdout"
        }
      ]
    },
    {
      "cell_type": "code",
      "metadata": {
        "id": "ZWImtDUOMKdw",
        "colab": {
          "base_uri": "https://localhost:8080/"
        },
        "outputId": "065e4a3b-05e0-49ef-af84-4f62ab191e28"
      },
      "source": [
        "%%bash\n",
        "#Do not edit below this line\n",
        "hincc myC++.uhin\n",
        "cat inpC++.txt | ./hin.exe\n"
      ],
      "execution_count": 10,
      "outputs": [
        {
          "output_type": "stream",
          "text": [
            "संकलन के परिणाम\n",
            "============\n",
            "यह एक जानवर है।\n",
            "शेर एक जानवर है।\n",
            "चीता एक जानवर है।\n",
            "यह एक जानवर है।\n",
            "शेर एक जानवर है।\n",
            "चीता एक जानवर है।\n"
          ],
          "name": "stdout"
        }
      ]
    },
    {
      "cell_type": "code",
      "metadata": {
        "id": "8nrLKZj7MKd0",
        "colab": {
          "base_uri": "https://localhost:8080/"
        },
        "outputId": "4550601e-8261-4400-e2c7-9bfb62dc62d0"
      },
      "source": [
        "%%writefile myASM.uhin\n",
        "<शैली यांत्रिक>\n",
        "विधि ELF प्रयोग\n",
        "प्रथम मुख्य\n",
        "अखंड पाठक प्रयोग\n",
        "मुख्य:\n",
        "    डालो    बकक्ष,४\n",
        "    डालो    बखक्ष,१\n",
        "    डालो    बगक्ष,संदेश\n",
        "    डालो    बघक्ष,संदेश_माप\n",
        "    विघ्न    ०x८०\n",
        "    डालो    बकक्ष,1\n",
        "    अथवा    बखक्ष,बखक्ष\n",
        "    विघ्न  ०x८०\n",
        "अखंड पाठक लेखक\n",
        "संदेश तब \"सारे जहां से अच्छा हिंदोस्तां हमारा!\",०xA\n",
        "संदेश_माप = $-संदेश\n"
      ],
      "execution_count": 11,
      "outputs": [
        {
          "output_type": "stream",
          "text": [
            "Writing myASM.uhin\n"
          ],
          "name": "stdout"
        }
      ]
    },
    {
      "cell_type": "code",
      "metadata": {
        "id": "I2JA1fxVMKd8",
        "colab": {
          "base_uri": "https://localhost:8080/"
        },
        "outputId": "380d9e1f-43e6-462c-8249-8aa513afb898"
      },
      "source": [
        "%%writefile inpASM.txt\n",
        "Replace this with inputs\n"
      ],
      "execution_count": 12,
      "outputs": [
        {
          "output_type": "stream",
          "text": [
            "Writing inpASM.txt\n"
          ],
          "name": "stdout"
        }
      ]
    },
    {
      "cell_type": "code",
      "metadata": {
        "id": "_am_tIbmMKeA",
        "colab": {
          "base_uri": "https://localhost:8080/"
        },
        "outputId": "ed41f033-9277-4cc5-ebf4-cdcaf8627073"
      },
      "source": [
        "%%bash\n",
        "\n",
        "#Do not edit below this line\n",
        "hincc myASM.uhin\n",
        "cat inpASM.txt | ./hin.exe\n"
      ],
      "execution_count": 13,
      "outputs": [
        {
          "output_type": "stream",
          "text": [
            "संकलन के परिणाम\n",
            "============\n",
            "flat assembler  version 1.67.7  (16384 kilobytes memory)\n",
            "3 passes, 244 bytes.\n",
            "सारे जहां से अच्छा हिंदोस्तां हमारा!\n"
          ],
          "name": "stdout"
        }
      ]
    },
    {
      "cell_type": "code",
      "metadata": {
        "id": "hde8EEeyMKeF",
        "colab": {
          "base_uri": "https://localhost:8080/"
        },
        "outputId": "f7b900cf-8709-451a-af0b-7cf11c03bc56"
      },
      "source": [
        "%%writefile myLEX.uhin\n",
        "<शैली शब्द>\n",
        "%{\n",
        "%}\n",
        "%%\n",
        "\"अ\"a+\"अ\"    {म_लिखो(\"ओ\");}\n",
        "ab+a        {म_लिखो(\"ab*a\");}\n",
        "%%\n"
      ],
      "execution_count": 14,
      "outputs": [
        {
          "output_type": "stream",
          "text": [
            "Writing myLEX.uhin\n"
          ],
          "name": "stdout"
        }
      ]
    },
    {
      "cell_type": "code",
      "metadata": {
        "id": "FN1iOTbAMKeI",
        "colab": {
          "base_uri": "https://localhost:8080/"
        },
        "outputId": "6d5d2a2d-e41c-4bda-9872-52c6944e2f50"
      },
      "source": [
        "%%writefile inpLEX.txt\n",
        "अ\n",
        "aअ\n",
        "अaअ"
      ],
      "execution_count": 15,
      "outputs": [
        {
          "output_type": "stream",
          "text": [
            "Writing inpLEX.txt\n"
          ],
          "name": "stdout"
        }
      ]
    },
    {
      "cell_type": "code",
      "metadata": {
        "id": "I1T4IHbuMKeM",
        "colab": {
          "base_uri": "https://localhost:8080/"
        },
        "outputId": "a36bda18-55ea-49d2-d1b7-42aee34c17cf"
      },
      "source": [
        "%%bash\n",
        "\n",
        "#Do not edit below this line\n",
        "hincc myLEX.uhin\n",
        "cat inpLEX.txt | ./hin.exe\n"
      ],
      "execution_count": 16,
      "outputs": [
        {
          "output_type": "stream",
          "text": [
            "संकलन के परिणाम\n",
            "============\n",
            "अ\n",
            "aअ\n",
            "ओ"
          ],
          "name": "stdout"
        }
      ]
    },
    {
      "cell_type": "code",
      "metadata": {
        "id": "VVorthCyMKeQ",
        "colab": {
          "base_uri": "https://localhost:8080/"
        },
        "outputId": "cac63de4-26eb-4cd0-df26-37a9554bd222"
      },
      "source": [
        "%%writefile myYACC.uhin\n",
        "<शैली व्याक>\n",
        "%अणु\n",
        "#समावेश <प्रकार.स>\n",
        "#समावेश <मानकपन.स>\n",
        "#घोषणा व्याक_ढेर_प्रकार द्विगुन\n",
        "\n",
        "पूर्णांक व्याक_त्रुटि();\n",
        "पूर्णांक श_शब्द();\n",
        "\n",
        "%पूर्ण\n",
        "\n",
        "%मोहर अंक\n",
        "%बाँए '+' '-'\n",
        "%बाँए '*' '/'\n",
        "%बाँए '%'\n",
        "%दाँए घटा\n",
        "\n",
        "%%\n",
        "पंक्ति   : पंक्ति उक्ति '\\n'   { म_लिखो(\"%g \\n\", $2); }\n",
        "       | पंक्ति '\\n'\n",
        "       | /* ऐपसिलन */\n",
        "       ;\n",
        "उक्ति   : उक्ति '+' उक्ति    { $$ = $1 + $3; }\n",
        "       | उक्ति '-' उक्ति    { $$ = $1 - $3; }\n",
        "       | उक्ति '*' उक्ति    { $$ = $1 * $3; }\n",
        "       | उक्ति '/' उक्ति    { $$ = $1 / $3; }\n",
        "       | उक्ति '%' उक्ति    { $$ = (int)$1 % (int)$3; }\n",
        "       | '(' उक्ति ')'     { $$ = $2; }\n",
        "       | '-' उक्ति %प्राथमिकता घटा  { $$ = - $2; }\n",
        "       | '+' उक्ति %प्राथमिकता घटा  { $$ = $2; }\n",
        "       | अंक\n",
        "       ;\n",
        "%%\n",
        " \n",
        "पूर्णांक श_शब्द()\n",
        "अणु\n",
        "   पूर्णांक च;\n",
        "   जबतक ( ( च=अक्षर_लो() ) == ' ' );\n",
        "   अगर ( (च == '.') || (है_अंक(च)) )\n",
        "   अणु\n",
        "      अक्षर_वापस(च, मानक_निवेश);\n",
        "      म_पूछो(\"%lf\", &श_ब_मान);\n",
        "      वापस अंक;\n",
        "   पूर्ण\n",
        "   वापस च;\n",
        "पूर्ण\n",
        " \n",
        "पूर्णांक व्याक_त्रुटि()\n",
        "अणु\n",
        "   वापस 0;\n",
        "पूर्ण\n",
        " \n",
        "पूर्णांक मुख्य(पूर्णांक तस, अक्षर *तव[] )\n",
        "अणु\n",
        "   म_लिखो(\"हिंदवी कैल्क्यूलेटर\\n\");\n",
        "   म_लिखो(\"Copyright (C) 2003-2023 Abhishek Choudhary\\n\");\n",
        "   म_लिखो(\"GNU GPL V2 license. NO WARRANTY.\\n\");\n",
        "   म_लिखो(\"आप 0 से 9, +, -, *, / और () का प्रयोग कर सकते हैं।\\n\");\n",
        "   व्याक();\n",
        "   वापस 0;\n",
        "पूर्ण\n"
      ],
      "execution_count": 17,
      "outputs": [
        {
          "output_type": "stream",
          "text": [
            "Writing myYACC.uhin\n"
          ],
          "name": "stdout"
        }
      ]
    },
    {
      "cell_type": "code",
      "metadata": {
        "id": "qylP2vrpMKeU",
        "colab": {
          "base_uri": "https://localhost:8080/"
        },
        "outputId": "96154ffc-d2e4-4a0b-f308-c9436c22b8c0"
      },
      "source": [
        "%%writefile inpYACC.txt\n",
        "(2+3)/4-1\n",
        "3/7\n"
      ],
      "execution_count": 18,
      "outputs": [
        {
          "output_type": "stream",
          "text": [
            "Writing inpYACC.txt\n"
          ],
          "name": "stdout"
        }
      ]
    },
    {
      "cell_type": "code",
      "metadata": {
        "id": "UcR1fokqMKeX",
        "colab": {
          "base_uri": "https://localhost:8080/"
        },
        "outputId": "7c4805cf-3395-4b5c-a42c-31c7873643ab"
      },
      "source": [
        "%%shell\n",
        "#Do not edit below this line\n",
        "hincc myYACC.uhin\n",
        "#cat inpYACC.txt | \n",
        "./hin.exe"
      ],
      "execution_count": 19,
      "outputs": [
        {
          "output_type": "stream",
          "text": [
            "संकलन के परिणाम\n",
            "============\n",
            "हिंदवी कैल्क्यूलेटर\n",
            "Copyright (C) 2003-2023 Abhishek Choudhary\n",
            "GNU GPL V2 license. NO WARRANTY.\n",
            "आप 0 से 9, +, -, *, / और () का प्रयोग कर सकते हैं।\n",
            "3/4.33\n",
            "0.692841 \n",
            "\n",
            "a\n"
          ],
          "name": "stdout"
        },
        {
          "output_type": "execute_result",
          "data": {
            "text/plain": [
              ""
            ]
          },
          "metadata": {
            "tags": []
          },
          "execution_count": 19
        }
      ]
    }
  ]
}
