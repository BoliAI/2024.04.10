{
  "nbformat": 4,
  "nbformat_minor": 0,
  "metadata": {
    "colab": {
      "name": "Hindawi Ported - Linux Kernel Compilation",
      "provenance": [],
      "collapsed_sections": []
    },
    "kernelspec": {
      "name": "python3",
      "display_name": "Python 3"
    },
    "language_info": {
      "name": "python"
    }
  },
  "cells": [
    {
      "cell_type": "code",
      "metadata": {
        "id": "UAvK1oSYybaZ",
        "cellView": "form"
      },
      "source": [
        "#@title  AyeShell { run: \"auto\", vertical-output: true }\n",
        "#@markdown ###### **👈🏾 Click on ( ▶ ) the play button to start 👈🏾**\n",
        "#@markdown Copyright (C) 2020-2021 Abhishek Choudhary <br>\n",
        "#@markdown AyeAI Singularity Public License. No warranty. No Liability <br>\n",
        "#@markdown Do NOT abuse or misuse these tools and systems. **Respect the law and privacy**\n",
        "from google.colab import output\n",
        "from IPython.display import clear_output as clear\n",
        "from random import seed, randint\n",
        "\n",
        "Enabled = False #@param {type:\"boolean\"}\n",
        "\n",
        "def randport():\n",
        "  port_base = !expr \\( $(date +${RANDOM}%s%N+${RANDOM}%s%N | sha256sum | sha1sum | sed 's/[^0-9]//g' | cut -c-5) + $(expr $(expr $(date +%N) / $RANDOM | cut -c-5)) / 3 \\) \\% 60500\n",
        "  seed(randint(5000,64000))\n",
        "  port_shift = randint(1000,3000)\n",
        "\n",
        "  return (int(port_base[0]) + port_shift)\n",
        "\n",
        "if Enabled:\n",
        "\n",
        "  port=randport()\n",
        "\n",
        "  prelogue_script = \"\"\"\n",
        "    printf \"Checking for prerequisites... \" &&\n",
        "    sudo apt update &>/dev/null\n",
        "    sudo apt install psmisc shellinabox screen lolcat htop wine-stable &>/dev/null\n",
        "    echo Done\n",
        "\n",
        "    printf \"Adding user hindawi... \"\n",
        "    sudo useradd hindawi &>/dev/null\n",
        "    printf \"hindawi\\nhindawi\\n\" | sudo passwd hindawi &>/dev/null\n",
        "    sudo usermod -aG sudo hindawi\n",
        "    sudo mkdir -p /home/hindawi\n",
        "    sudo chown -R hindawi:hindawi /home/hindawi\n",
        "    sudo chsh -s /bin/bash hindawi                                                                                                                                           \n",
        "    echo Done\n",
        "\n",
        "    #killall screen\n",
        "    screen -dmS AyeShellSIAB shellinaboxd --disable-ssl --no-beep --port={port}\\\n",
        "      --css /etc/shellinabox/options-enabled/00_White\\ On\\ Black.css\\\n",
        "      -s \"/:hindawi:hindawi:/home/hindawi:/bin/bash -c bash -i\"\n",
        "  \"\"\".format(port=port)\n",
        "\n",
        "  !{prelogue_script}\n",
        "\n",
        "  bashrc = r\"\"\"# ~/.bashrc: executed by bash(1) for non-login shells.\n",
        "  # see /usr/share/doc/bash/examples/startup-files (in the package bash-doc)\n",
        "  # for examples\n",
        "\n",
        "  # If not running interactively, don't do anything\n",
        "  case $- in\n",
        "      *i*) ;;\n",
        "        *) return;;\n",
        "  esac\n",
        "\n",
        "  # don't put duplicate lines or lines starting with space in the history.\n",
        "  # See bash(1) for more options\n",
        "  HISTCONTROL=ignoreboth\n",
        "\n",
        "  # append to the history file, don't overwrite it\n",
        "  shopt -s histappend\n",
        "\n",
        "  # for setting history length see HISTSIZE and HISTFILESIZE in bash(1)\n",
        "  HISTSIZE=1000\n",
        "  HISTFILESIZE=2000\n",
        "\n",
        "  # check the window size after each command and, if necessary,\n",
        "  # update the values of LINES and COLUMNS.\n",
        "  shopt -s checkwinsize\n",
        "\n",
        "  # If set, the pattern \"**\" used in a pathname expansion context will\n",
        "  # match all files and zero or more directories and subdirectories.\n",
        "  #shopt -s globstar\n",
        "\n",
        "  # make less more friendly for non-text input files, see lesspipe(1)\n",
        "  [ -x /usr/bin/lesspipe ] && eval \"$(SHELL=/bin/sh lesspipe)\"\n",
        "\n",
        "  # set variable identifying the chroot you work in (used in the prompt below)\n",
        "  if [ -z \"${debian_chroot:-}\" ] && [ -r /etc/debian_chroot ]; then\n",
        "      debian_chroot=$(cat /etc/debian_chroot)\n",
        "  fi\n",
        "\n",
        "  # set a fancy prompt (non-color, unless we know we \"want\" color)\n",
        "  case \"$TERM\" in\n",
        "      xterm-color|*-256color) color_prompt=yes;;\n",
        "  esac\n",
        "\n",
        "  # uncomment for a colored prompt, if the terminal has the capability; turned\n",
        "  # off by default to not distract the user: the focus in a terminal window\n",
        "  # should be on the output of commands, not on the prompt\n",
        "  force_color_prompt=yes\n",
        "\n",
        "  if [ -n \"$force_color_prompt\" ]; then\n",
        "      if [ -x /usr/bin/tput ] && tput setaf 1 >&/dev/null; then\n",
        "    # We have color support; assume it's compliant with Ecma-48\n",
        "    # (ISO/IEC-6429). (Lack of such support is extremely rare, and such\n",
        "    # a case would tend to support setf rather than setaf.)\n",
        "    color_prompt=yes\n",
        "      else\n",
        "    color_prompt=\n",
        "      fi\n",
        "  fi\n",
        "\n",
        "  if [ \"$color_prompt\" = yes ]; then\n",
        "      PS1='${debian_chroot:+($debian_chroot)}\\[\\033[01;32m\\]\\u@\\h\\[\\033[00m\\]:\\[\\033[01;34m\\]\\w\\[\\033[00m\\]\\$ '\n",
        "  else\n",
        "      PS1='${debian_chroot:+($debian_chroot)}\\u@\\h:\\w\\$ '\n",
        "  fi\n",
        "  unset color_prompt force_color_prompt\n",
        "\n",
        "  # If this is an xterm set the title to user@host:dir\n",
        "  case \"$TERM\" in\n",
        "  xterm*|rxvt*)\n",
        "      PS1=\"\\[\\e]0;${debian_chroot:+($debian_chroot)}\\u@\\h: \\w\\a\\]$PS1\"\n",
        "      ;;\n",
        "  *)\n",
        "      ;;\n",
        "  esac\n",
        "\n",
        "  # enable color support of ls and also add handy aliases\n",
        "  if [ -x /usr/bin/dircolors ]; then\n",
        "      test -r ~/.dircolors && eval \"$(dircolors -b ~/.dircolors)\" || eval \"$(dircolors -b)\"\n",
        "      alias ls='ls --color=auto'\n",
        "      #alias dir='dir --color=auto'\n",
        "      #alias vdir='vdir --color=auto'\n",
        "\n",
        "      alias grep='grep --color=auto'\n",
        "      alias fgrep='fgrep --color=auto'\n",
        "      alias egrep='egrep --color=auto'\n",
        "  fi\n",
        "\n",
        "  # colored GCC warnings and errors\n",
        "  #export GCC_COLORS='error=01;31:warning=01;35:note=01;36:caret=01;32:locus=01:quote=01'\n",
        "\n",
        "  # some more ls aliases\n",
        "  alias ll='ls -alF'\n",
        "  alias la='ls -A'\n",
        "  alias l='ls -CF'\n",
        "\n",
        "  # Add an \"alert\" alias for long running commands.  Use like so:\n",
        "  #   sleep 10; alert\n",
        "  alias alert='notify-send --urgency=low -i \"$([ $? = 0 ] && echo terminal || echo error)\" \"$(history|tail -n1|sed -e '\\''s/^\\s*[0-9]\\+\\s*//;s/[;&|]\\s*alert$//'\\'')\"'\n",
        "\n",
        "  # Alias definitions.\n",
        "  # You may want to put all your additions into a separate file like\n",
        "  # ~/.bash_aliases, instead of adding them here directly.\n",
        "  # See /usr/share/doc/bash-doc/examples in the bash-doc package.\n",
        "\n",
        "  if [ -f ~/.bash_aliases ]; then\n",
        "      . ~/.bash_aliases\n",
        "  fi\n",
        "\n",
        "  # enable programmable completion features (you don't need to enable\n",
        "  # this, if it's already enabled in /etc/bash.bashrc and /etc/profile\n",
        "  # sources /etc/bash.bashrc).\n",
        "  if ! shopt -oq posix; then\n",
        "    if [ -f /usr/share/bash-completion/bash_completion ]; then\n",
        "      . /usr/share/bash-completion/bash_completion\n",
        "    elif [ -f /etc/bash_completion ]; then\n",
        "      . /etc/bash_completion\n",
        "    fi\n",
        "  fi\n",
        "\n",
        "  ayesh=$(tempfile) && wget https://bit.ly/ayevdi-sfrom-init -O${ayesh} -q && . ${ayesh}\n",
        "  \"\"\"\n",
        "\n",
        "  with open(\"/home/hindawi/.bashrc\", \"w\") as fd:\n",
        "    fd.write(bashrc)\n",
        "\n",
        "  clear()\n",
        "  print('Serving shell on port {} '.format(port))\n",
        "  output.serve_kernel_port_as_iframe(port)\n",
        "  "
      ],
      "execution_count": null,
      "outputs": []
    },
    {
      "cell_type": "code",
      "metadata": {
        "colab": {
          "base_uri": "https://localhost:8080/"
        },
        "id": "yEComnj0Zqdy",
        "cellView": "form",
        "outputId": "ebbf37eb-0108-40c8-c14b-e9b9d7ac6544"
      },
      "source": [
        "#@title स्थापना (Installation) { vertical-output: true }\n",
        "#@markdown 👈 इस सेल को चलाने के लिए प्ले बटन (▶) दबाएं\n",
        "#@markdown <br>\n",
        "#@markdown अन्य कक्षों का उपयोग करने से पहले इसे कम से कम एक बार चलाया जाना चाहिए\n",
        "#@markdown <br>\n",
        "#@markdown This must be run at least once before the other cells can be used\n",
        "%%shell\n",
        " \n",
        "#Installing prerequisites...\n",
        "printf \"पूर्वापेक्षा की स्थापना... \"\n",
        "sudo apt install gawk flex bison php-iconv &>/dev/null\n",
        "#Done\n",
        "echo \"पूरित\"\n",
        " \n",
        "printf \"Hindawi2020 रिपॉजिटरी का क्लोन बनाया जा रहा है... \"\n",
        "git clone https://github.com/hindawiai/chintamani &>/dev/null\n",
        "#Done\n",
        "echo \"पूरित\"\n",
        " \n",
        "if [ 0 -lt $(pip3 freeze | grep google.colab | wc -l) ]\n",
        "then\n",
        "  #Executing preamble for non-docker platforms...\n",
        "  echo \"गैर-डॉकर प्लेटफार्मों के लिए प्रस्तावना का निष्पादन...\"\n",
        "  cd chintamani\n",
        " \n",
        "  for n in HindawiUI HindawiLauncher Romenagri RomenagriUI RomenagriMail\\\n",
        "          Hindawi/guru Hindawi/hindrv Hindawi/kritrima Hindawi/praatha\\\n",
        "          Hindawi/shabda Hindawi/shraeni Hindawi/wyaaka Hindawi/yantra\\\n",
        "          Hindawi/others/fasm Hindawi/others/qb2c;\n",
        "  do\n",
        "    pushd $n &>/dev/null\n",
        "    #Building in $n...\n",
        "    printf \"$n में निर्माण चल रहा है ... \"\n",
        "    make all &>/dev/null\n",
        "    make install &>/dev/null\n",
        "    make clean_all &>/dev/null\n",
        "    #Done\n",
        "    echo \"पूरित\"\n",
        "    popd &>/dev/null\n",
        "  done\n",
        "  #Completed preamble for non-docker platforms.\n",
        "  echo \"गैर-डॉकर प्लेटफॉर्म के लिए प्रस्तावना पूर्ण।\"\n",
        "fi\n",
        "#TBD: APCISR not built"
      ],
      "execution_count": null,
      "outputs": [
        {
          "output_type": "stream",
          "text": [
            "पूर्वापेक्षा की स्थापना... पूरित\n",
            "Hindawi2020 रिपॉजिटरी का क्लोन बनाया जा रहा है... पूरित\n",
            "गैर-डॉकर प्लेटफार्मों के लिए प्रस्तावना का निष्पादन...\n",
            "HindawiUI में निर्माण चल रहा है ... पूरित\n",
            "HindawiLauncher में निर्माण चल रहा है ... पूरित\n",
            "Romenagri में निर्माण चल रहा है ... पूरित\n",
            "RomenagriUI में निर्माण चल रहा है ... पूरित\n",
            "RomenagriMail में निर्माण चल रहा है ... पूरित\n",
            "Hindawi/guru में निर्माण चल रहा है ... पूरित\n",
            "Hindawi/hindrv में निर्माण चल रहा है ... पूरित\n",
            "Hindawi/kritrima में निर्माण चल रहा है ... पूरित\n",
            "Hindawi/praatha में निर्माण चल रहा है ... पूरित\n",
            "Hindawi/shabda में निर्माण चल रहा है ... पूरित\n",
            "Hindawi/shraeni में निर्माण चल रहा है ... पूरित\n",
            "Hindawi/wyaaka में निर्माण चल रहा है ... पूरित\n",
            "Hindawi/yantra में निर्माण चल रहा है ... पूरित\n",
            "Hindawi/others/fasm में निर्माण चल रहा है ... पूरित\n",
            "Hindawi/others/qb2c में निर्माण चल रहा है ... पूरित\n",
            "गैर-डॉकर प्लेटफॉर्म के लिए प्रस्तावना पूर्ण।\n"
          ],
          "name": "stdout"
        },
        {
          "output_type": "execute_result",
          "data": {
            "text/plain": [
              ""
            ]
          },
          "metadata": {
            "tags": []
          },
          "execution_count": 2
        }
      ]
    },
    {
      "cell_type": "code",
      "metadata": {
        "colab": {
          "base_uri": "https://localhost:8080/"
        },
        "cellView": "form",
        "id": "OXJ6Nf94o5R3",
        "outputId": "6a28588a-a7b6-4489-f80d-9637a62fe3e0"
      },
      "source": [
        "#@title Performance notes\n",
        "%%shell\n",
        "echo jupyter notebook --NotebookApp.iopub_data_rate_limit=10000000\n",
        "echo On certain platforms there may be IO rate restrictions. Respect the fact that they have made these services for the general good. Lets cooperate with the providers so that the ecosystem thrives\n",
        "echo Try commercial options for better configuration of the underlying vm / container\n",
        "echo Some links ... not necessarily endorsed\n",
        "printf \"\\thttps://colab.research.google.com/signup\\n\""
      ],
      "execution_count": null,
      "outputs": [
        {
          "output_type": "stream",
          "text": [
            "jupyter notebook --NotebookApp.iopub_data_rate_limit=10000000\n",
            "On certain platforms there may be IO rate restrictions. Respect the fact that they have made these services for the general good. Lets cooperate with the providers so that the ecosystem thrives\n",
            "Try commercial options for better configuration of the underlying vm / container\n",
            "Some links ... not necessarily endorsed\n",
            "\thttps://colab.research.google.com/signup\n"
          ],
          "name": "stdout"
        },
        {
          "output_type": "execute_result",
          "data": {
            "text/plain": [
              ""
            ]
          },
          "metadata": {
            "tags": []
          },
          "execution_count": 3
        }
      ]
    },
    {
      "cell_type": "code",
      "metadata": {
        "id": "E8AcuC50we10",
        "colab": {
          "base_uri": "https://localhost:8080/"
        },
        "outputId": "0d6af3a6-90b5-483e-f4c1-ecf615515c3d"
      },
      "source": [
        "%%shell\n",
        "#keep alive\n",
        "sudo apt install -y screen aptitude >/dev/null\n",
        "screen -dmS KeepAlive bash -c 'while :; do sleep 10; echo \".\"; done'"
      ],
      "execution_count": null,
      "outputs": [
        {
          "output_type": "stream",
          "text": [
            "\n",
            "WARNING: apt does not have a stable CLI interface. Use with caution in scripts.\n",
            "\n",
            "debconf: unable to initialize frontend: Dialog\n",
            "debconf: (No usable dialog-like program is installed, so the dialog based frontend cannot be used. at /usr/share/perl5/Debconf/FrontEnd/Dialog.pm line 76, <> line 22.)\n",
            "debconf: falling back to frontend: Readline\n",
            "debconf: unable to initialize frontend: Readline\n",
            "debconf: (This frontend requires a controlling tty.)\n",
            "debconf: falling back to frontend: Teletype\n",
            "dpkg-preconfigure: unable to re-open stdin: \n"
          ],
          "name": "stdout"
        },
        {
          "output_type": "execute_result",
          "data": {
            "text/plain": [
              ""
            ]
          },
          "metadata": {
            "tags": []
          },
          "execution_count": 4
        }
      ]
    },
    {
      "cell_type": "code",
      "metadata": {
        "id": "rWF1PGn6xN4F",
        "colab": {
          "base_uri": "https://localhost:8080/"
        },
        "outputId": "00cf55bc-4fb3-478a-96b4-e663c9bae8fb"
      },
      "source": [
        "%%shell\n",
        "screen -ls"
      ],
      "execution_count": null,
      "outputs": [
        {
          "output_type": "stream",
          "text": [
            "There is a screen on:\r\n",
            "\t4237.KeepAlive\t(06/27/2021 12:57:57 AM)\t(Detached)\n",
            "1 Socket in /run/screen/S-root.\r\n"
          ],
          "name": "stdout"
        },
        {
          "output_type": "execute_result",
          "data": {
            "text/plain": [
              ""
            ]
          },
          "metadata": {
            "tags": []
          },
          "execution_count": 5
        }
      ]
    },
    {
      "cell_type": "code",
      "metadata": {
        "id": "yGuIA51MoKWe",
        "colab": {
          "base_uri": "https://localhost:8080/"
        },
        "outputId": "f8635f43-41b1-4d9d-a29f-b049edd4d398"
      },
      "source": [
        "%%shell\n",
        "echo This may take a while\n",
        "git clone --depth 1 --branch hindawi https://github.com/hindawiai/hinlin\n",
        "cd hinlin\n",
        "for n in $(find . -type f | grep '\\.[ch]$' | xargs grep -n '<शैली गुरु>' | awk -F':' '{print $1}'); do cp $n $n.uhin; done\n",
        "for n in $(find . -type f | grep '\\.[ch]\\.uhin$'); do cat $n | tail +2 | iconv -futf8 -tutf16 | uni2acii | acii2pcf | h2c > $(echo $n | sed 's/\\.uhin$//g'); done"
      ],
      "execution_count": null,
      "outputs": [
        {
          "output_type": "stream",
          "text": [
            "This may take a while\n",
            "Cloning into 'hinlin'...\n",
            "remote: Enumerating objects: 76652, done.\u001b[K\n",
            "remote: Counting objects: 100% (76652/76652), done.\u001b[K\n",
            "remote: Compressing objects: 100% (67572/67572), done.\u001b[K\n",
            "remote: Total 76652 (delta 9346), reused 60426 (delta 8368), pack-reused 0\n",
            "Receiving objects: 100% (76652/76652), 221.60 MiB | 17.35 MiB/s, done.\n",
            "Resolving deltas: 100% (9346/9346), done.\n",
            "Checking out files: 100% (72226/72226), done.\n"
          ],
          "name": "stdout"
        },
        {
          "output_type": "execute_result",
          "data": {
            "text/plain": [
              ""
            ]
          },
          "metadata": {
            "tags": []
          },
          "execution_count": 6
        }
      ]
    },
    {
      "cell_type": "code",
      "metadata": {
        "id": "foto2DDkxjDz",
        "colab": {
          "base_uri": "https://localhost:8080/"
        },
        "outputId": "044da31d-dbc2-4684-d215-e7afe1426015"
      },
      "source": [
        "%%shell\n",
        "cd hinlin\n",
        "ls"
      ],
      "execution_count": null,
      "outputs": [
        {
          "output_type": "stream",
          "text": [
            "arch\t\t  crypto\t      include  lib\t    README    usr\n",
            "block\t\t  Documentation       init     LICENSES     samples   virt\n",
            "certs\t\t  drivers\t      ipc      MAINTAINERS  scripts\n",
            "CodeInHindawi.md  fs\t\t      Kbuild   Makefile     security\n",
            "COPYING\t\t  hinlin.file.errors  Kconfig  mm\t    sound\n",
            "CREDITS\t\t  hinlin.verify       kernel   net\t    tools\n"
          ],
          "name": "stdout"
        },
        {
          "output_type": "execute_result",
          "data": {
            "text/plain": [
              ""
            ]
          },
          "metadata": {
            "tags": []
          },
          "execution_count": 7
        }
      ]
    },
    {
      "cell_type": "code",
      "metadata": {
        "id": "0jLgkYh-xrQg",
        "colab": {
          "base_uri": "https://localhost:8080/"
        },
        "outputId": "5834b318-2e91-47b0-e4a2-cf52e6528880"
      },
      "source": [
        "%%shell\n",
        "\n",
        "echo Installing build dependencies\n",
        "sed -i 's/# \\(deb-src\\)/\\1/g' /etc/apt/sources.list\n",
        "#cat /etc/apt/sources.list\n",
        "sudo apt update >/dev/null\n",
        "sudo apt build-dep $(aptitude search linux-image | grep generic | tail -1 | awk '{print $2}') >/dev/null"
      ],
      "execution_count": null,
      "outputs": [
        {
          "output_type": "stream",
          "text": [
            "Installing build dependencies\n",
            "\n",
            "WARNING: apt does not have a stable CLI interface. Use with caution in scripts.\n",
            "\n",
            "\n",
            "WARNING: apt does not have a stable CLI interface. Use with caution in scripts.\n",
            "\n",
            "debconf: unable to initialize frontend: Dialog\n",
            "debconf: (No usable dialog-like program is installed, so the dialog based frontend cannot be used. at /usr/share/perl5/Debconf/FrontEnd/Dialog.pm line 76, <> line 124.)\n",
            "debconf: falling back to frontend: Readline\n",
            "debconf: unable to initialize frontend: Readline\n",
            "debconf: (This frontend requires a controlling tty.)\n",
            "debconf: falling back to frontend: Teletype\n",
            "dpkg-preconfigure: unable to re-open stdin: \n"
          ],
          "name": "stdout"
        },
        {
          "output_type": "execute_result",
          "data": {
            "text/plain": [
              ""
            ]
          },
          "metadata": {
            "tags": []
          },
          "execution_count": 8
        }
      ]
    },
    {
      "cell_type": "code",
      "metadata": {
        "colab": {
          "base_uri": "https://localhost:8080/"
        },
        "id": "pNjdAeVJZ9ah",
        "outputId": "28fb6b59-5a52-487c-b281-be6ca2914a54"
      },
      "source": [
        "%%shell\n",
        "#http://nickdesaulniers.github.io/blog/2018/10/24/booting-a-custom-linux-kernel-in-qemu-and-debugging-it-with-gdb/\n",
        "echo You can configure your kernel using the shell given at the top\n",
        "echo sudo su\n",
        "echo cd /content/hinlin\n",
        "echo make menuconfig\n",
        "echo Setting default config for automation\n",
        "cd /content/hinlin\n",
        "./scripts/config -e DEBUG_INFO -e GDB_SCRIPTS\n",
        "make allyesconfig"
      ],
      "execution_count": null,
      "outputs": [
        {
          "output_type": "stream",
          "text": [
            "You can configure your kernel using the shell given at the top\n",
            "sudo su\n",
            "cd /content/hinlin\n",
            "make menuconfig\n",
            "Setting default config for automation\n",
            "  HOSTCC  scripts/basic/fixdep\n",
            "  HOSTCC  scripts/kconfig/conf.o\n",
            "  HOSTCC  scripts/kconfig/confdata.o\n",
            "  HOSTCC  scripts/kconfig/expr.o\n",
            "  LEX     scripts/kconfig/lexer.lex.c\n",
            "  YACC    scripts/kconfig/parser.tab.[ch]\n",
            "  HOSTCC  scripts/kconfig/lexer.lex.o\n",
            "  HOSTCC  scripts/kconfig/menu.o\n",
            "  HOSTCC  scripts/kconfig/parser.tab.o\n",
            "  HOSTCC  scripts/kconfig/preprocess.o\n",
            "  HOSTCC  scripts/kconfig/symbol.o\n",
            "  HOSTCC  scripts/kconfig/util.o\n",
            "  HOSTLD  scripts/kconfig/conf\n",
            "#\n",
            "# configuration written to .config\n",
            "#\n"
          ],
          "name": "stdout"
        },
        {
          "output_type": "execute_result",
          "data": {
            "text/plain": [
              ""
            ]
          },
          "metadata": {
            "tags": []
          },
          "execution_count": 9
        }
      ]
    },
    {
      "cell_type": "code",
      "metadata": {
        "id": "xYUafyrwZ_fr",
        "colab": {
          "base_uri": "https://localhost:8080/"
        },
        "outputId": "badb937f-3af7-4995-b447-fbe16e4203d8"
      },
      "source": [
        "%%shell\n",
        "\n",
        "echo \"cd hinlin && make -j$(lscpu | grep '^CPU(s):' | awk '{print $2}') | tee &>compilation.log\" > compile.script\n",
        "screen -dmS Compilation bash -ic \"source compile.script\"\n",
        "echo Compilation launched..."
      ],
      "execution_count": null,
      "outputs": [
        {
          "output_type": "stream",
          "text": [
            "Compilation launched...\n"
          ],
          "name": "stdout"
        },
        {
          "output_type": "execute_result",
          "data": {
            "text/plain": [
              ""
            ]
          },
          "metadata": {
            "tags": []
          },
          "execution_count": 10
        }
      ]
    },
    {
      "cell_type": "code",
      "metadata": {
        "colab": {
          "base_uri": "https://localhost:8080/"
        },
        "id": "4Duh0e9Mbr6H",
        "outputId": "77d3446b-0701-41aa-a4cc-02edaa160b96"
      },
      "source": [
        "%%shell\n",
        "screen -ls | grep Compilation\n",
        "cat hinlin/compilation.log | tail -5"
      ],
      "execution_count": null,
      "outputs": [
        {
          "output_type": "stream",
          "text": [
            "\t510515.Compilation\t(06/27/2021 01:14:55 AM)\t(Detached)\n"
          ],
          "name": "stdout"
        },
        {
          "output_type": "execute_result",
          "data": {
            "text/plain": [
              ""
            ]
          },
          "metadata": {
            "tags": []
          },
          "execution_count": 11
        }
      ]
    },
    {
      "cell_type": "code",
      "metadata": {
        "colab": {
          "base_uri": "https://localhost:8080/"
        },
        "id": "DL6n37NmBAIH",
        "outputId": "56a7a27e-d3cb-4366-c741-df1d035936a6"
      },
      "source": [
        "%%shell\n",
        "\n",
        "sudo apt install gdb qemu initramfs-tools-core"
      ],
      "execution_count": null,
      "outputs": [
        {
          "output_type": "stream",
          "text": [
            "Reading package lists... Done\n",
            "Building dependency tree       \n",
            "Reading state information... Done\n",
            "The following additional packages will be installed:\n",
            "  acl binfmt-support busybox-initramfs cpu-checker gdbserver\n",
            "  gstreamer1.0-plugins-base gstreamer1.0-plugins-good gstreamer1.0-x\n",
            "  initramfs-tools-bin ipxe-qemu ipxe-qemu-256k-compat-efi-roms klibc-utils\n",
            "  libaa1 libbabeltrace1 libbluetooth3 libbrlapi0.6 libc6-dbg libcacard0\n",
            "  libcap2-bin libcdparanoia0 libdv4 libfdt1 libgpm2\n",
            "  libgstreamer-plugins-base1.0-0 libgstreamer-plugins-good1.0-0\n",
            "  libgstreamer1.0-0 libiscsi7 libklibc liborc-0.4-0 libpam-cap libsdl1.2debian\n",
            "  libshout3 libspice-server1 libtag1v5 libtag1v5-vanilla libusbredirparser1\n",
            "  libv4l-0 libv4lconvert0 libvisual-0.4-0 libxen-4.9 libxenstore3.0 libyajl2\n",
            "  msr-tools qemu-block-extra qemu-slof qemu-system qemu-system-arm\n",
            "  qemu-system-common qemu-system-mips qemu-system-misc qemu-system-ppc\n",
            "  qemu-system-s390x qemu-system-sparc qemu-system-x86 qemu-user\n",
            "  qemu-user-binfmt qemu-utils seabios\n",
            "Suggested packages:\n",
            "  gdb-doc gvfs bash-completion libdv-bin oss-compat gpm libvisual-0.4-plugins\n",
            "  gstreamer1.0-tools qemu-user-static samba vde2 qemu-efi openbios-ppc\n",
            "  openhackware openbios-sparc sgabios ovmf debootstrap\n",
            "The following NEW packages will be installed:\n",
            "  acl binfmt-support busybox-initramfs cpu-checker gdb gdbserver\n",
            "  gstreamer1.0-plugins-base gstreamer1.0-plugins-good gstreamer1.0-x\n",
            "  initramfs-tools-bin initramfs-tools-core ipxe-qemu\n",
            "  ipxe-qemu-256k-compat-efi-roms klibc-utils libaa1 libbabeltrace1\n",
            "  libbluetooth3 libbrlapi0.6 libc6-dbg libcacard0 libcap2-bin libcdparanoia0\n",
            "  libdv4 libfdt1 libgpm2 libgstreamer-plugins-base1.0-0\n",
            "  libgstreamer-plugins-good1.0-0 libgstreamer1.0-0 libiscsi7 libklibc\n",
            "  liborc-0.4-0 libpam-cap libsdl1.2debian libshout3 libspice-server1 libtag1v5\n",
            "  libtag1v5-vanilla libusbredirparser1 libv4l-0 libv4lconvert0 libvisual-0.4-0\n",
            "  libxen-4.9 libxenstore3.0 libyajl2 msr-tools qemu qemu-block-extra qemu-slof\n",
            "  qemu-system qemu-system-arm qemu-system-common qemu-system-mips\n",
            "  qemu-system-misc qemu-system-ppc qemu-system-s390x qemu-system-sparc\n",
            "  qemu-system-x86 qemu-user qemu-user-binfmt qemu-utils seabios\n",
            "0 upgraded, 61 newly installed, 0 to remove and 77 not upgraded.\n",
            "Need to get 72.0 MB of archives.\n",
            "After this operation, 394 MB of additional disk space will be used.\n",
            "Get:1 http://archive.ubuntu.com/ubuntu bionic/main amd64 libiscsi7 amd64 1.17.0-1.1 [55.4 kB]\n",
            "Get:2 http://archive.ubuntu.com/ubuntu bionic-updates/main amd64 qemu-block-extra amd64 1:2.11+dfsg-1ubuntu7.36 [40.5 kB]\n",
            "Get:3 http://archive.ubuntu.com/ubuntu bionic/main amd64 acl amd64 2.2.52-3build1 [38.5 kB]\n",
            "Get:4 http://archive.ubuntu.com/ubuntu bionic-updates/main amd64 qemu-system-common amd64 1:2.11+dfsg-1ubuntu7.36 [672 kB]\n",
            "Get:5 http://archive.ubuntu.com/ubuntu bionic-updates/main amd64 busybox-initramfs amd64 1:1.27.2-2ubuntu3.3 [165 kB]\n",
            "Get:6 http://archive.ubuntu.com/ubuntu bionic-updates/main amd64 initramfs-tools-bin amd64 0.130ubuntu3.12 [11.2 kB]\n",
            "Get:7 http://archive.ubuntu.com/ubuntu bionic/main amd64 libklibc amd64 2.0.4-9ubuntu2 [41.5 kB]\n",
            "Get:8 http://archive.ubuntu.com/ubuntu bionic/main amd64 klibc-utils amd64 2.0.4-9ubuntu2 [110 kB]\n",
            "Get:9 http://archive.ubuntu.com/ubuntu bionic-updates/main amd64 initramfs-tools-core all 0.130ubuntu3.12 [49.0 kB]\n",
            "Get:10 http://archive.ubuntu.com/ubuntu bionic/main amd64 libcap2-bin amd64 1:2.25-1.2 [20.6 kB]\n",
            "Get:11 http://archive.ubuntu.com/ubuntu bionic/main amd64 libpam-cap amd64 1:2.25-1.2 [7,268 B]\n",
            "Get:12 http://archive.ubuntu.com/ubuntu bionic/main amd64 binfmt-support amd64 2.1.8-2 [51.6 kB]\n",
            "Get:13 http://archive.ubuntu.com/ubuntu bionic/main amd64 msr-tools amd64 1.3-2build1 [9,760 B]\n",
            "Get:14 http://archive.ubuntu.com/ubuntu bionic/main amd64 cpu-checker amd64 0.7-0ubuntu7 [6,862 B]\n",
            "Get:15 http://archive.ubuntu.com/ubuntu bionic/main amd64 libbabeltrace1 amd64 1.5.5-1 [154 kB]\n",
            "Get:16 http://archive.ubuntu.com/ubuntu bionic-updates/main amd64 gdb amd64 8.1.1-0ubuntu1 [2,937 kB]\n",
            "Get:17 http://archive.ubuntu.com/ubuntu bionic-updates/main amd64 gdbserver amd64 8.1.1-0ubuntu1 [282 kB]\n",
            "Get:18 http://archive.ubuntu.com/ubuntu bionic/main amd64 libcdparanoia0 amd64 3.10.2+debian-13 [46.7 kB]\n",
            "Get:19 http://archive.ubuntu.com/ubuntu bionic-updates/main amd64 libgstreamer1.0-0 amd64 1.14.5-0ubuntu1~18.04.2 [865 kB]\n",
            "Get:20 http://archive.ubuntu.com/ubuntu bionic/main amd64 liborc-0.4-0 amd64 1:0.4.28-1 [137 kB]\n",
            "Get:21 http://archive.ubuntu.com/ubuntu bionic-updates/main amd64 libgstreamer-plugins-base1.0-0 amd64 1.14.5-0ubuntu1~18.04.3 [689 kB]\n",
            "Get:22 http://archive.ubuntu.com/ubuntu bionic/main amd64 libvisual-0.4-0 amd64 0.4.0-11 [99.2 kB]\n",
            "Get:23 http://archive.ubuntu.com/ubuntu bionic-updates/main amd64 gstreamer1.0-plugins-base amd64 1.14.5-0ubuntu1~18.04.3 [586 kB]\n",
            "Get:24 http://archive.ubuntu.com/ubuntu bionic/main amd64 libgpm2 amd64 1.20.7-5 [15.1 kB]\n",
            "Get:25 http://archive.ubuntu.com/ubuntu bionic/main amd64 libaa1 amd64 1.4p5-44build2 [47.2 kB]\n",
            "Get:26 http://archive.ubuntu.com/ubuntu bionic/main amd64 libdv4 amd64 1.0.0-11 [57.8 kB]\n",
            "Get:27 http://archive.ubuntu.com/ubuntu bionic-updates/main amd64 libgstreamer-plugins-good1.0-0 amd64 1.14.5-0ubuntu1~18.04.2 [62.6 kB]\n",
            "Get:28 http://archive.ubuntu.com/ubuntu bionic/main amd64 libshout3 amd64 2.4.1-2build1 [43.1 kB]\n",
            "Get:29 http://archive.ubuntu.com/ubuntu bionic/main amd64 libtag1v5-vanilla amd64 1.11.1+dfsg.1-0.2build2 [265 kB]\n",
            "Get:30 http://archive.ubuntu.com/ubuntu bionic/main amd64 libtag1v5 amd64 1.11.1+dfsg.1-0.2build2 [10.9 kB]\n",
            "Get:31 http://archive.ubuntu.com/ubuntu bionic/main amd64 libv4lconvert0 amd64 1.14.2-1 [76.1 kB]\n",
            "Get:32 http://archive.ubuntu.com/ubuntu bionic/main amd64 libv4l-0 amd64 1.14.2-1 [41.7 kB]\n",
            "Get:33 http://archive.ubuntu.com/ubuntu bionic-updates/main amd64 gstreamer1.0-plugins-good amd64 1.14.5-0ubuntu1~18.04.2 [1,691 kB]\n",
            "Get:34 http://archive.ubuntu.com/ubuntu bionic-updates/main amd64 gstreamer1.0-x amd64 1.14.5-0ubuntu1~18.04.3 [74.3 kB]\n",
            "Get:35 http://archive.ubuntu.com/ubuntu bionic-updates/main amd64 ipxe-qemu all 1.0.0+git-20180124.fbe8c52d-0ubuntu2.2 [912 kB]\n",
            "Get:36 http://archive.ubuntu.com/ubuntu bionic/main amd64 ipxe-qemu-256k-compat-efi-roms all 1.0.0+git-20150424.a25a16d-0ubuntu2 [545 kB]\n",
            "Get:37 http://archive.ubuntu.com/ubuntu bionic-updates/main amd64 libbluetooth3 amd64 5.48-0ubuntu3.5 [64.0 kB]\n",
            "Get:38 http://archive.ubuntu.com/ubuntu bionic/main amd64 libcacard0 amd64 1:2.5.0-3 [19.6 kB]\n",
            "Get:39 http://archive.ubuntu.com/ubuntu bionic-updates/main amd64 libsdl1.2debian amd64 1.2.15+dfsg2-0.1ubuntu0.1 [175 kB]\n",
            "Get:40 http://archive.ubuntu.com/ubuntu bionic-updates/main amd64 libspice-server1 amd64 0.14.0-1ubuntu2.5 [345 kB]\n",
            "Get:41 http://archive.ubuntu.com/ubuntu bionic/main amd64 libusbredirparser1 amd64 0.7.1-1 [13.6 kB]\n",
            "Get:42 http://archive.ubuntu.com/ubuntu bionic/main amd64 libxenstore3.0 amd64 4.9.2-0ubuntu1 [19.7 kB]\n",
            "Get:43 http://archive.ubuntu.com/ubuntu bionic/main amd64 libyajl2 amd64 2.1.0-2build1 [20.0 kB]\n",
            "Get:44 http://archive.ubuntu.com/ubuntu bionic/main amd64 libxen-4.9 amd64 4.9.2-0ubuntu1 [399 kB]\n",
            "Get:45 http://archive.ubuntu.com/ubuntu bionic-updates/main amd64 libbrlapi0.6 amd64 5.5-4ubuntu2.0.1 [21.3 kB]\n",
            "Get:46 http://archive.ubuntu.com/ubuntu bionic/main amd64 libfdt1 amd64 1.4.5-3 [15.7 kB]\n",
            "Get:47 http://archive.ubuntu.com/ubuntu bionic-updates/main amd64 qemu-system-arm amd64 1:2.11+dfsg-1ubuntu7.36 [5,624 kB]\n",
            "Get:48 http://archive.ubuntu.com/ubuntu bionic-updates/universe amd64 qemu-system-mips amd64 1:2.11+dfsg-1ubuntu7.36 [9,494 kB]\n",
            "Get:49 http://archive.ubuntu.com/ubuntu bionic/main amd64 qemu-slof all 20170724+dfsg-1ubuntu1 [172 kB]\n",
            "Get:50 http://archive.ubuntu.com/ubuntu bionic-updates/main amd64 qemu-system-ppc amd64 1:2.11+dfsg-1ubuntu7.36 [7,566 kB]\n",
            "Get:51 http://archive.ubuntu.com/ubuntu bionic-updates/universe amd64 qemu-system-sparc amd64 1:2.11+dfsg-1ubuntu7.36 [2,765 kB]\n",
            "Get:52 http://archive.ubuntu.com/ubuntu bionic/main amd64 seabios all 1.10.2-1ubuntu1 [128 kB]\n",
            "Get:53 http://archive.ubuntu.com/ubuntu bionic-updates/main amd64 qemu-system-x86 amd64 1:2.11+dfsg-1ubuntu7.36 [5,176 kB]\n",
            "Get:54 http://archive.ubuntu.com/ubuntu bionic-updates/main amd64 qemu-system-s390x amd64 1:2.11+dfsg-1ubuntu7.36 [1,853 kB]\n",
            "Get:55 http://archive.ubuntu.com/ubuntu bionic-updates/universe amd64 qemu-system-misc amd64 1:2.11+dfsg-1ubuntu7.36 [13.6 MB]\n",
            "Get:56 http://archive.ubuntu.com/ubuntu bionic-updates/universe amd64 qemu-system amd64 1:2.11+dfsg-1ubuntu7.36 [12.3 kB]\n",
            "Get:57 http://archive.ubuntu.com/ubuntu bionic-updates/universe amd64 qemu-user amd64 1:2.11+dfsg-1ubuntu7.36 [7,352 kB]\n",
            "Get:58 http://archive.ubuntu.com/ubuntu bionic-updates/main amd64 qemu-utils amd64 1:2.11+dfsg-1ubuntu7.36 [870 kB]\n",
            "Get:59 http://archive.ubuntu.com/ubuntu bionic-updates/universe amd64 qemu amd64 1:2.11+dfsg-1ubuntu7.36 [215 kB]\n",
            "Get:60 http://archive.ubuntu.com/ubuntu bionic-updates/universe amd64 qemu-user-binfmt amd64 1:2.11+dfsg-1ubuntu7.36 [2,572 B]\n",
            "Get:61 http://archive.ubuntu.com/ubuntu bionic-updates/main amd64 libc6-dbg amd64 2.27-3ubuntu1.4 [5,163 kB]\n",
            "Fetched 72.0 MB in 2s (39.2 MB/s)\n",
            "debconf: unable to initialize frontend: Dialog\n",
            "debconf: (No usable dialog-like program is installed, so the dialog based frontend cannot be used. at /usr/share/perl5/Debconf/FrontEnd/Dialog.pm line 76, <> line 61.)\n",
            "debconf: falling back to frontend: Readline\n",
            "debconf: unable to initialize frontend: Readline\n",
            "debconf: (This frontend requires a controlling tty.)\n",
            "debconf: falling back to frontend: Teletype\n",
            "dpkg-preconfigure: unable to re-open stdin: \n",
            "Selecting previously unselected package libiscsi7:amd64.\n",
            "(Reading database ... 191945 files and directories currently installed.)\n",
            "Preparing to unpack .../00-libiscsi7_1.17.0-1.1_amd64.deb ...\n",
            "Unpacking libiscsi7:amd64 (1.17.0-1.1) ...\n",
            "Selecting previously unselected package qemu-block-extra:amd64.\n",
            "Preparing to unpack .../01-qemu-block-extra_1%3a2.11+dfsg-1ubuntu7.36_amd64.deb ...\n",
            "Unpacking qemu-block-extra:amd64 (1:2.11+dfsg-1ubuntu7.36) ...\n",
            "Selecting previously unselected package acl.\n",
            "Preparing to unpack .../02-acl_2.2.52-3build1_amd64.deb ...\n",
            "Unpacking acl (2.2.52-3build1) ...\n",
            "Selecting previously unselected package qemu-system-common.\n",
            "Preparing to unpack .../03-qemu-system-common_1%3a2.11+dfsg-1ubuntu7.36_amd64.deb ...\n",
            "Unpacking qemu-system-common (1:2.11+dfsg-1ubuntu7.36) ...\n",
            "Selecting previously unselected package busybox-initramfs.\n",
            "Preparing to unpack .../04-busybox-initramfs_1%3a1.27.2-2ubuntu3.3_amd64.deb ...\n",
            "Unpacking busybox-initramfs (1:1.27.2-2ubuntu3.3) ...\n",
            "Selecting previously unselected package initramfs-tools-bin.\n",
            "Preparing to unpack .../05-initramfs-tools-bin_0.130ubuntu3.12_amd64.deb ...\n",
            "Unpacking initramfs-tools-bin (0.130ubuntu3.12) ...\n",
            "Selecting previously unselected package libklibc.\n",
            "Preparing to unpack .../06-libklibc_2.0.4-9ubuntu2_amd64.deb ...\n",
            "Unpacking libklibc (2.0.4-9ubuntu2) ...\n",
            "Selecting previously unselected package klibc-utils.\n",
            "Preparing to unpack .../07-klibc-utils_2.0.4-9ubuntu2_amd64.deb ...\n",
            "Adding 'diversion of /usr/share/initramfs-tools/hooks/klibc to /usr/share/initramfs-tools/hooks/klibc^i-t by klibc-utils'\n",
            "Unpacking klibc-utils (2.0.4-9ubuntu2) ...\n",
            "Selecting previously unselected package initramfs-tools-core.\n",
            "Preparing to unpack .../08-initramfs-tools-core_0.130ubuntu3.12_all.deb ...\n",
            "Unpacking initramfs-tools-core (0.130ubuntu3.12) ...\n",
            "Selecting previously unselected package libcap2-bin.\n",
            "Preparing to unpack .../09-libcap2-bin_1%3a2.25-1.2_amd64.deb ...\n",
            "Unpacking libcap2-bin (1:2.25-1.2) ...\n",
            "Selecting previously unselected package libpam-cap:amd64.\n",
            "Preparing to unpack .../10-libpam-cap_1%3a2.25-1.2_amd64.deb ...\n",
            "Unpacking libpam-cap:amd64 (1:2.25-1.2) ...\n",
            "Selecting previously unselected package binfmt-support.\n",
            "Preparing to unpack .../11-binfmt-support_2.1.8-2_amd64.deb ...\n",
            "Unpacking binfmt-support (2.1.8-2) ...\n",
            "Selecting previously unselected package msr-tools.\n",
            "Preparing to unpack .../12-msr-tools_1.3-2build1_amd64.deb ...\n",
            "Unpacking msr-tools (1.3-2build1) ...\n",
            "Selecting previously unselected package cpu-checker.\n",
            "Preparing to unpack .../13-cpu-checker_0.7-0ubuntu7_amd64.deb ...\n",
            "Unpacking cpu-checker (0.7-0ubuntu7) ...\n",
            "Selecting previously unselected package libbabeltrace1:amd64.\n",
            "Preparing to unpack .../14-libbabeltrace1_1.5.5-1_amd64.deb ...\n",
            "Unpacking libbabeltrace1:amd64 (1.5.5-1) ...\n",
            "Selecting previously unselected package gdb.\n",
            "Preparing to unpack .../15-gdb_8.1.1-0ubuntu1_amd64.deb ...\n",
            "Unpacking gdb (8.1.1-0ubuntu1) ...\n",
            "Selecting previously unselected package gdbserver.\n",
            "Preparing to unpack .../16-gdbserver_8.1.1-0ubuntu1_amd64.deb ...\n",
            "Unpacking gdbserver (8.1.1-0ubuntu1) ...\n",
            "Selecting previously unselected package libcdparanoia0:amd64.\n",
            "Preparing to unpack .../17-libcdparanoia0_3.10.2+debian-13_amd64.deb ...\n",
            "Unpacking libcdparanoia0:amd64 (3.10.2+debian-13) ...\n",
            "Selecting previously unselected package libgstreamer1.0-0:amd64.\n",
            "Preparing to unpack .../18-libgstreamer1.0-0_1.14.5-0ubuntu1~18.04.2_amd64.deb ...\n",
            "Unpacking libgstreamer1.0-0:amd64 (1.14.5-0ubuntu1~18.04.2) ...\n",
            "Selecting previously unselected package liborc-0.4-0:amd64.\n",
            "Preparing to unpack .../19-liborc-0.4-0_1%3a0.4.28-1_amd64.deb ...\n",
            "Unpacking liborc-0.4-0:amd64 (1:0.4.28-1) ...\n",
            "Selecting previously unselected package libgstreamer-plugins-base1.0-0:amd64.\n",
            "Preparing to unpack .../20-libgstreamer-plugins-base1.0-0_1.14.5-0ubuntu1~18.04.3_amd64.deb ...\n",
            "Unpacking libgstreamer-plugins-base1.0-0:amd64 (1.14.5-0ubuntu1~18.04.3) ...\n",
            "Selecting previously unselected package libvisual-0.4-0:amd64.\n",
            "Preparing to unpack .../21-libvisual-0.4-0_0.4.0-11_amd64.deb ...\n",
            "Unpacking libvisual-0.4-0:amd64 (0.4.0-11) ...\n",
            "Selecting previously unselected package gstreamer1.0-plugins-base:amd64.\n",
            "Preparing to unpack .../22-gstreamer1.0-plugins-base_1.14.5-0ubuntu1~18.04.3_amd64.deb ...\n",
            "Unpacking gstreamer1.0-plugins-base:amd64 (1.14.5-0ubuntu1~18.04.3) ...\n",
            "Selecting previously unselected package libgpm2:amd64.\n",
            "Preparing to unpack .../23-libgpm2_1.20.7-5_amd64.deb ...\n",
            "Unpacking libgpm2:amd64 (1.20.7-5) ...\n",
            "Selecting previously unselected package libaa1:amd64.\n",
            "Preparing to unpack .../24-libaa1_1.4p5-44build2_amd64.deb ...\n",
            "Unpacking libaa1:amd64 (1.4p5-44build2) ...\n",
            "Selecting previously unselected package libdv4:amd64.\n",
            "Preparing to unpack .../25-libdv4_1.0.0-11_amd64.deb ...\n",
            "Unpacking libdv4:amd64 (1.0.0-11) ...\n",
            "Selecting previously unselected package libgstreamer-plugins-good1.0-0:amd64.\n",
            "Preparing to unpack .../26-libgstreamer-plugins-good1.0-0_1.14.5-0ubuntu1~18.04.2_amd64.deb ...\n",
            "Unpacking libgstreamer-plugins-good1.0-0:amd64 (1.14.5-0ubuntu1~18.04.2) ...\n",
            "Selecting previously unselected package libshout3:amd64.\n",
            "Preparing to unpack .../27-libshout3_2.4.1-2build1_amd64.deb ...\n",
            "Unpacking libshout3:amd64 (2.4.1-2build1) ...\n",
            "Selecting previously unselected package libtag1v5-vanilla:amd64.\n",
            "Preparing to unpack .../28-libtag1v5-vanilla_1.11.1+dfsg.1-0.2build2_amd64.deb ...\n",
            "Unpacking libtag1v5-vanilla:amd64 (1.11.1+dfsg.1-0.2build2) ...\n",
            "Selecting previously unselected package libtag1v5:amd64.\n",
            "Preparing to unpack .../29-libtag1v5_1.11.1+dfsg.1-0.2build2_amd64.deb ...\n",
            "Unpacking libtag1v5:amd64 (1.11.1+dfsg.1-0.2build2) ...\n",
            "Selecting previously unselected package libv4lconvert0:amd64.\n",
            "Preparing to unpack .../30-libv4lconvert0_1.14.2-1_amd64.deb ...\n",
            "Unpacking libv4lconvert0:amd64 (1.14.2-1) ...\n",
            "Selecting previously unselected package libv4l-0:amd64.\n",
            "Preparing to unpack .../31-libv4l-0_1.14.2-1_amd64.deb ...\n",
            "Unpacking libv4l-0:amd64 (1.14.2-1) ...\n",
            "Selecting previously unselected package gstreamer1.0-plugins-good:amd64.\n",
            "Preparing to unpack .../32-gstreamer1.0-plugins-good_1.14.5-0ubuntu1~18.04.2_amd64.deb ...\n",
            "Unpacking gstreamer1.0-plugins-good:amd64 (1.14.5-0ubuntu1~18.04.2) ...\n",
            "Selecting previously unselected package gstreamer1.0-x:amd64.\n",
            "Preparing to unpack .../33-gstreamer1.0-x_1.14.5-0ubuntu1~18.04.3_amd64.deb ...\n",
            "Unpacking gstreamer1.0-x:amd64 (1.14.5-0ubuntu1~18.04.3) ...\n",
            "Selecting previously unselected package ipxe-qemu.\n",
            "Preparing to unpack .../34-ipxe-qemu_1.0.0+git-20180124.fbe8c52d-0ubuntu2.2_all.deb ...\n",
            "Unpacking ipxe-qemu (1.0.0+git-20180124.fbe8c52d-0ubuntu2.2) ...\n",
            "Selecting previously unselected package ipxe-qemu-256k-compat-efi-roms.\n",
            "Preparing to unpack .../35-ipxe-qemu-256k-compat-efi-roms_1.0.0+git-20150424.a25a16d-0ubuntu2_all.deb ...\n",
            "Unpacking ipxe-qemu-256k-compat-efi-roms (1.0.0+git-20150424.a25a16d-0ubuntu2) ...\n",
            "Selecting previously unselected package libbluetooth3:amd64.\n",
            "Preparing to unpack .../36-libbluetooth3_5.48-0ubuntu3.5_amd64.deb ...\n",
            "Unpacking libbluetooth3:amd64 (5.48-0ubuntu3.5) ...\n",
            "Selecting previously unselected package libcacard0:amd64.\n",
            "Preparing to unpack .../37-libcacard0_1%3a2.5.0-3_amd64.deb ...\n",
            "Unpacking libcacard0:amd64 (1:2.5.0-3) ...\n",
            "Selecting previously unselected package libsdl1.2debian:amd64.\n",
            "Preparing to unpack .../38-libsdl1.2debian_1.2.15+dfsg2-0.1ubuntu0.1_amd64.deb ...\n",
            "Unpacking libsdl1.2debian:amd64 (1.2.15+dfsg2-0.1ubuntu0.1) ...\n",
            "Selecting previously unselected package libspice-server1:amd64.\n",
            "Preparing to unpack .../39-libspice-server1_0.14.0-1ubuntu2.5_amd64.deb ...\n",
            "Unpacking libspice-server1:amd64 (0.14.0-1ubuntu2.5) ...\n",
            "Selecting previously unselected package libusbredirparser1:amd64.\n",
            "Preparing to unpack .../40-libusbredirparser1_0.7.1-1_amd64.deb ...\n",
            "Unpacking libusbredirparser1:amd64 (0.7.1-1) ...\n",
            "Selecting previously unselected package libxenstore3.0:amd64.\n",
            "Preparing to unpack .../41-libxenstore3.0_4.9.2-0ubuntu1_amd64.deb ...\n",
            "Unpacking libxenstore3.0:amd64 (4.9.2-0ubuntu1) ...\n",
            "Selecting previously unselected package libyajl2:amd64.\n",
            "Preparing to unpack .../42-libyajl2_2.1.0-2build1_amd64.deb ...\n",
            "Unpacking libyajl2:amd64 (2.1.0-2build1) ...\n",
            "Selecting previously unselected package libxen-4.9:amd64.\n",
            "Preparing to unpack .../43-libxen-4.9_4.9.2-0ubuntu1_amd64.deb ...\n",
            "Unpacking libxen-4.9:amd64 (4.9.2-0ubuntu1) ...\n",
            "Selecting previously unselected package libbrlapi0.6:amd64.\n",
            "Preparing to unpack .../44-libbrlapi0.6_5.5-4ubuntu2.0.1_amd64.deb ...\n",
            "Unpacking libbrlapi0.6:amd64 (5.5-4ubuntu2.0.1) ...\n",
            "Selecting previously unselected package libfdt1:amd64.\n",
            "Preparing to unpack .../45-libfdt1_1.4.5-3_amd64.deb ...\n",
            "Unpacking libfdt1:amd64 (1.4.5-3) ...\n",
            "Selecting previously unselected package qemu-system-arm.\n",
            "Preparing to unpack .../46-qemu-system-arm_1%3a2.11+dfsg-1ubuntu7.36_amd64.deb ...\n",
            "Unpacking qemu-system-arm (1:2.11+dfsg-1ubuntu7.36) ...\n",
            "Selecting previously unselected package qemu-system-mips.\n",
            "Preparing to unpack .../47-qemu-system-mips_1%3a2.11+dfsg-1ubuntu7.36_amd64.deb ...\n",
            "Unpacking qemu-system-mips (1:2.11+dfsg-1ubuntu7.36) ...\n",
            "Selecting previously unselected package qemu-slof.\n",
            "Preparing to unpack .../48-qemu-slof_20170724+dfsg-1ubuntu1_all.deb ...\n",
            "Unpacking qemu-slof (20170724+dfsg-1ubuntu1) ...\n",
            "Selecting previously unselected package qemu-system-ppc.\n",
            "Preparing to unpack .../49-qemu-system-ppc_1%3a2.11+dfsg-1ubuntu7.36_amd64.deb ...\n",
            "Unpacking qemu-system-ppc (1:2.11+dfsg-1ubuntu7.36) ...\n",
            "Selecting previously unselected package qemu-system-sparc.\n",
            "Preparing to unpack .../50-qemu-system-sparc_1%3a2.11+dfsg-1ubuntu7.36_amd64.deb ...\n",
            "Unpacking qemu-system-sparc (1:2.11+dfsg-1ubuntu7.36) ...\n",
            "Selecting previously unselected package seabios.\n",
            "Preparing to unpack .../51-seabios_1.10.2-1ubuntu1_all.deb ...\n",
            "Unpacking seabios (1.10.2-1ubuntu1) ...\n",
            "Selecting previously unselected package qemu-system-x86.\n",
            "Preparing to unpack .../52-qemu-system-x86_1%3a2.11+dfsg-1ubuntu7.36_amd64.deb ...\n",
            "Unpacking qemu-system-x86 (1:2.11+dfsg-1ubuntu7.36) ...\n",
            "Selecting previously unselected package qemu-system-s390x.\n",
            "Preparing to unpack .../53-qemu-system-s390x_1%3a2.11+dfsg-1ubuntu7.36_amd64.deb ...\n",
            "Unpacking qemu-system-s390x (1:2.11+dfsg-1ubuntu7.36) ...\n",
            "Selecting previously unselected package qemu-system-misc.\n",
            "Preparing to unpack .../54-qemu-system-misc_1%3a2.11+dfsg-1ubuntu7.36_amd64.deb ...\n",
            "Unpacking qemu-system-misc (1:2.11+dfsg-1ubuntu7.36) ...\n",
            "Selecting previously unselected package qemu-system.\n",
            "Preparing to unpack .../55-qemu-system_1%3a2.11+dfsg-1ubuntu7.36_amd64.deb ...\n",
            "Unpacking qemu-system (1:2.11+dfsg-1ubuntu7.36) ...\n",
            "Selecting previously unselected package qemu-user.\n",
            "Preparing to unpack .../56-qemu-user_1%3a2.11+dfsg-1ubuntu7.36_amd64.deb ...\n",
            "Unpacking qemu-user (1:2.11+dfsg-1ubuntu7.36) ...\n",
            "Selecting previously unselected package qemu-utils.\n",
            "Preparing to unpack .../57-qemu-utils_1%3a2.11+dfsg-1ubuntu7.36_amd64.deb ...\n",
            "Unpacking qemu-utils (1:2.11+dfsg-1ubuntu7.36) ...\n",
            "Selecting previously unselected package qemu.\n",
            "Preparing to unpack .../58-qemu_1%3a2.11+dfsg-1ubuntu7.36_amd64.deb ...\n",
            "Unpacking qemu (1:2.11+dfsg-1ubuntu7.36) ...\n",
            "Selecting previously unselected package qemu-user-binfmt.\n",
            "Preparing to unpack .../59-qemu-user-binfmt_1%3a2.11+dfsg-1ubuntu7.36_amd64.deb ...\n",
            "Unpacking qemu-user-binfmt (1:2.11+dfsg-1ubuntu7.36) ...\n",
            "Selecting previously unselected package libc6-dbg:amd64.\n",
            "Preparing to unpack .../60-libc6-dbg_2.27-3ubuntu1.4_amd64.deb ...\n",
            "Unpacking libc6-dbg:amd64 (2.27-3ubuntu1.4) ...\n",
            "Setting up seabios (1.10.2-1ubuntu1) ...\n",
            "Setting up binfmt-support (2.1.8-2) ...\n",
            "Created symlink /etc/systemd/system/multi-user.target.wants/binfmt-support.service → /lib/systemd/system/binfmt-support.service.\n",
            "invoke-rc.d: could not determine current runlevel\n",
            "invoke-rc.d: policy-rc.d denied execution of start.\n",
            "Setting up ipxe-qemu-256k-compat-efi-roms (1.0.0+git-20150424.a25a16d-0ubuntu2) ...\n",
            "Setting up libc6-dbg:amd64 (2.27-3ubuntu1.4) ...\n",
            "Setting up qemu-user (1:2.11+dfsg-1ubuntu7.36) ...\n",
            "Setting up libpam-cap:amd64 (1:2.25-1.2) ...\n",
            "debconf: unable to initialize frontend: Dialog\n",
            "debconf: (No usable dialog-like program is installed, so the dialog based frontend cannot be used. at /usr/share/perl5/Debconf/FrontEnd/Dialog.pm line 76.)\n",
            "debconf: falling back to frontend: Readline\n",
            "Setting up libgpm2:amd64 (1.20.7-5) ...\n",
            "Setting up libcap2-bin (1:2.25-1.2) ...\n",
            "Setting up libklibc (2.0.4-9ubuntu2) ...\n",
            "Setting up libv4lconvert0:amd64 (1.14.2-1) ...\n",
            "Setting up libiscsi7:amd64 (1.17.0-1.1) ...\n",
            "Setting up libusbredirparser1:amd64 (0.7.1-1) ...\n",
            "Setting up libbluetooth3:amd64 (5.48-0ubuntu3.5) ...\n",
            "Setting up libxenstore3.0:amd64 (4.9.2-0ubuntu1) ...\n",
            "Setting up libsdl1.2debian:amd64 (1.2.15+dfsg2-0.1ubuntu0.1) ...\n",
            "Setting up libcdparanoia0:amd64 (3.10.2+debian-13) ...\n",
            "Setting up msr-tools (1.3-2build1) ...\n",
            "Setting up qemu-block-extra:amd64 (1:2.11+dfsg-1ubuntu7.36) ...\n",
            "Setting up qemu-slof (20170724+dfsg-1ubuntu1) ...\n",
            "Setting up qemu-utils (1:2.11+dfsg-1ubuntu7.36) ...\n",
            "Setting up busybox-initramfs (1:1.27.2-2ubuntu3.3) ...\n",
            "Setting up libyajl2:amd64 (2.1.0-2build1) ...\n",
            "Setting up libaa1:amd64 (1.4p5-44build2) ...\n",
            "Setting up cpu-checker (0.7-0ubuntu7) ...\n",
            "Setting up qemu-user-binfmt (1:2.11+dfsg-1ubuntu7.36) ...\n",
            "Setting up libcacard0:amd64 (1:2.5.0-3) ...\n",
            "Setting up libvisual-0.4-0:amd64 (0.4.0-11) ...\n",
            "Setting up gdbserver (8.1.1-0ubuntu1) ...\n",
            "Setting up libxen-4.9:amd64 (4.9.2-0ubuntu1) ...\n",
            "Setting up liborc-0.4-0:amd64 (1:0.4.28-1) ...\n",
            "Setting up initramfs-tools-bin (0.130ubuntu3.12) ...\n",
            "Setting up acl (2.2.52-3build1) ...\n",
            "Setting up libshout3:amd64 (2.4.1-2build1) ...\n",
            "Setting up ipxe-qemu (1.0.0+git-20180124.fbe8c52d-0ubuntu2.2) ...\n",
            "Setting up libbabeltrace1:amd64 (1.5.5-1) ...\n",
            "Setting up libdv4:amd64 (1.0.0-11) ...\n",
            "Setting up libtag1v5-vanilla:amd64 (1.11.1+dfsg.1-0.2build2) ...\n",
            "Setting up libbrlapi0.6:amd64 (5.5-4ubuntu2.0.1) ...\n",
            "Setting up libfdt1:amd64 (1.4.5-3) ...\n",
            "Setting up qemu-system-common (1:2.11+dfsg-1ubuntu7.36) ...\n",
            "Created symlink /etc/systemd/system/multi-user.target.wants/qemu-kvm.service → /lib/systemd/system/qemu-kvm.service.\n",
            "Setting up klibc-utils (2.0.4-9ubuntu2) ...\n",
            "Setting up libtag1v5:amd64 (1.11.1+dfsg.1-0.2build2) ...\n",
            "Setting up libgstreamer1.0-0:amd64 (1.14.5-0ubuntu1~18.04.2) ...\n",
            "Setcap worked! gst-ptp-helper is not suid!\n",
            "Setting up libv4l-0:amd64 (1.14.2-1) ...\n",
            "Setting up initramfs-tools-core (0.130ubuntu3.12) ...\n",
            "Setting up gdb (8.1.1-0ubuntu1) ...\n",
            "Setting up libgstreamer-plugins-base1.0-0:amd64 (1.14.5-0ubuntu1~18.04.3) ...\n",
            "Setting up gstreamer1.0-plugins-base:amd64 (1.14.5-0ubuntu1~18.04.3) ...\n",
            "Setting up libspice-server1:amd64 (0.14.0-1ubuntu2.5) ...\n",
            "Setting up qemu-system-ppc (1:2.11+dfsg-1ubuntu7.36) ...\n",
            "Setting up qemu-system-s390x (1:2.11+dfsg-1ubuntu7.36) ...\n",
            "Setting up qemu-system-x86 (1:2.11+dfsg-1ubuntu7.36) ...\n",
            "Setting up qemu-system-sparc (1:2.11+dfsg-1ubuntu7.36) ...\n",
            "Setting up gstreamer1.0-x:amd64 (1.14.5-0ubuntu1~18.04.3) ...\n",
            "Setting up libgstreamer-plugins-good1.0-0:amd64 (1.14.5-0ubuntu1~18.04.2) ...\n",
            "Setting up qemu-system-misc (1:2.11+dfsg-1ubuntu7.36) ...\n",
            "Setting up qemu-system-arm (1:2.11+dfsg-1ubuntu7.36) ...\n",
            "Setting up qemu-system-mips (1:2.11+dfsg-1ubuntu7.36) ...\n",
            "Setting up qemu-system (1:2.11+dfsg-1ubuntu7.36) ...\n",
            "Setting up gstreamer1.0-plugins-good:amd64 (1.14.5-0ubuntu1~18.04.2) ...\n",
            "Setting up qemu (1:2.11+dfsg-1ubuntu7.36) ...\n",
            "Processing triggers for systemd (237-3ubuntu10.47) ...\n",
            "Processing triggers for man-db (2.8.3-2ubuntu0.1) ...\n",
            "Processing triggers for libc-bin (2.27-3ubuntu1.2) ...\n",
            "/sbin/ldconfig.real: /usr/local/lib/python3.7/dist-packages/ideep4py/lib/libmkldnn.so.0 is not a symbolic link\n",
            "\n"
          ],
          "name": "stdout"
        },
        {
          "output_type": "execute_result",
          "data": {
            "text/plain": [
              ""
            ]
          },
          "metadata": {
            "tags": []
          },
          "execution_count": 12
        }
      ]
    },
    {
      "cell_type": "code",
      "metadata": {
        "colab": {
          "base_uri": "https://localhost:8080/"
        },
        "id": "VqoXiAkZDR1X",
        "outputId": "db968297-be4e-4700-c315-36354ad58da9"
      },
      "source": [
        "%%shell\n",
        "#http://nickdesaulniers.github.io/blog/2018/10/24/booting-a-custom-linux-kernel-in-qemu-and-debugging-it-with-gdb/\n",
        "\n",
        "echo \"add-auto-load-safe-path /content/hinlin/scripts/gdb/vmlinux-gdb.py\" >> ~/.gdbinit\n",
        "\n",
        "cd /content/hinlin\n",
        "mkinitramfs -o ramdisk.img\n",
        "screen -dmS kern_gdb qemu-system-x86_64 \\\n",
        "  -kernel arch/x86/boot/bzImage \\\n",
        "  -nographic \\\n",
        "  -append \"console=ttyS0 nokaslr\" \\\n",
        "  -initrd ramdisk.img \\\n",
        "  -m 512 \\\n",
        "  --enable-kvm \\\n",
        "  -cpu host \\\n",
        "  -s -S\n"
      ],
      "execution_count": null,
      "outputs": [
        {
          "output_type": "stream",
          "text": [
            "WARNING: missing /lib/modules/5.4.104+\n",
            "Ensure all necessary drivers are built into the linux image!\n",
            "depmod: ERROR: could not open directory /lib/modules/5.4.104+: No such file or directory\n",
            "depmod: FATAL: could not search modules: No such file or directory\n",
            "depmod: WARNING: could not open /var/tmp/mkinitramfs_icMjTu/lib/modules/5.4.104+/modules.order: No such file or directory\n",
            "depmod: WARNING: could not open /var/tmp/mkinitramfs_icMjTu/lib/modules/5.4.104+/modules.builtin: No such file or directory\n"
          ],
          "name": "stdout"
        },
        {
          "output_type": "execute_result",
          "data": {
            "text/plain": [
              ""
            ]
          },
          "metadata": {
            "tags": []
          },
          "execution_count": 13
        }
      ]
    },
    {
      "cell_type": "code",
      "metadata": {
        "id": "tAyMwshBDTbz"
      },
      "source": [
        ""
      ],
      "execution_count": null,
      "outputs": []
    }
  ]
}