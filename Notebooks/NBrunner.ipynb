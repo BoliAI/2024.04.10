{
  "nbformat": 4,
  "nbformat_minor": 0,
  "metadata": {
    "colab": {
      "name": "NBrunner.ipynb",
      "provenance": [],
      "collapsed_sections": []
    },
    "kernelspec": {
      "name": "python3",
      "display_name": "Python 3"
    },
    "language_info": {
      "name": "python"
    }
  },
  "cells": [
    {
      "cell_type": "markdown",
      "metadata": {
        "id": "KXp_YNUl2A86"
      },
      "source": [
        "# __NB Runner__ by *obonac*\n",
        "(C) Copyright 2021 Abhishek Choudhary<br>\n",
        "AyeSPL license. No Warranty No Liability<br>\n",
        "<br>\n",
        "Trademarks are acknowledged as belonging to their respective owners."
      ]
    },
    {
      "cell_type": "code",
      "metadata": {
        "colab": {
          "base_uri": "https://localhost:8080/",
          "height": 547
        },
        "id": "hUTl-bvZoQz-",
        "cellView": "form",
        "outputId": "43785410-2fda-4c86-98e0-ed89d0a65560"
      },
      "source": [
        "#@title Notebook Runner { run: \"auto\", vertical-output: true, form-width: \"600px\" }\n",
        "from IPython.display import display\n",
        "from IPython.display import Markdown as md\n",
        "from IPython.display import HTML as html\n",
        "from IPython.display import Javascript as js\n",
        "\n",
        "Notebook_URL = \"https://github.com/hindawiai/chintamani/blob/master/Notebooks/NBrunner.ipynb\" #@param {type:\"string\"}\n",
        "Tested_on_Colab = True #@param {type:\"boolean\"}\n",
        "Tested_on_Binder = True #@param {type:\"boolean\"}\n",
        "Generate_QR = True #@param {type:\"boolean\"}\n",
        "Share_icons = True #@param {type:\"boolean\"}\n",
        "Display_code = False #@param {type:\"boolean\"}\n",
        "\n",
        "def disp_as_code(code,weight=\"small\"):\n",
        "  if Display_code:\n",
        "    md_code = code.replace(\"<\",\"&lt;\").replace(\">\",\"&gt;\")\n",
        "    md_code = \"\"\"<small>\n",
        "              \"\"\" + md_code.replace(\"\\n\",\"<br>\") + \"\"\"\n",
        "              </small>\"\"\"\n",
        "    display(html(md_code))\n",
        "\n",
        "def title(text):\n",
        "  display(md(\"### \"+text))\n",
        "\n",
        "#https://gist.github.com/aksteps/6c59a032d2faff56596ebe3c8cfb999f#file-webshareapiurl-js\n",
        "js_link = \"\"\"// Share Url\n",
        "                shareUrl = function() {\n",
        "                    if (!navigator.share) return;\n",
        "                    navigator.share({\n",
        "                            url: \"https://mywebsite.com\",\n",
        "                            title: \"Sharing Cool things\",\n",
        "                            text: \"Checkout my really cool website.\"\n",
        "                        })\n",
        "                        .then(() => { console.log(\"Shared YEEEE!!!!!\"); })\n",
        "                        .catch((error) => { console.log(\"Sharing Failed\") });\n",
        "                }\n",
        "\"\"\"\n",
        "display(js(js_link))\n",
        "\n",
        "#https://gist.github.com/aksteps/ed8cb77341b841242f5f2ceabb0ed3b7#file-webshareapifile-js\n",
        "js_file = \"\"\"// Sharing Files\n",
        "                shareFile = function (file) {\n",
        "                    var filesArray = [file];\n",
        "                    if (!navigator.canShare || !navigator.canShare({ files: filesArray })) return;\n",
        "                    navigator.share({\n",
        "                        files: filesArray,\n",
        "                        title: 'My File',\n",
        "                        text: 'Here, Sharing my files. Keep it safe',\n",
        "                    }).then(() => console.log('Share was successful.'))\n",
        "                      .catch((error) => console.log('Sharing failed', error));\n",
        "                }\n",
        "\"\"\"\n",
        "display(js(js_file))\n",
        "\n",
        "colab_cmd_str = \"echo \" + Notebook_URL + \"\"\" |\\\n",
        "                  sed 's/%/__percent__/g' |\\\n",
        "                  awk -F'/' '{ printf \"https://colab.research.google.com/github/\";\\\n",
        "                                for(n=4;n<NF;n++)\\\n",
        "                                {\\\n",
        "                                  printf $n \"/\"\\\n",
        "                                };\\\n",
        "                                print $NF\\\n",
        "                              }' |\\\n",
        "                  sed 's/__percent__/%/g' \"\"\"\n",
        "colab_url = !{colab_cmd_str}\n",
        "colab_md = \"[![Open In Colab](https://colab.research.google.com/assets/colab-badge.svg)](\" + colab_url[0] + \")\"\n",
        "colab_html = '<a href=\"' + colab_url[0] + '\"><img src=\"https://colab.research.google.com/assets/colab-badge.svg\" alt=\"Open In Colab\" style=\"height:40px; width:160px;\"></a>'\n",
        "\n",
        "binder_cmd_str = \"echo \" + Notebook_URL + \"\"\" |\\\n",
        "                  sed 's/%/__percent__/g' |\\\n",
        "                  awk -F'/' '{ printf \"https://mybinder.org/v2/gh/\" $4 \"/\" $5 \"/\" $7 \"/\";\\\n",
        "                                printf \"?filepath=\";\\\n",
        "                                for(n=8;n<NF;n++)\\\n",
        "                                {\\\n",
        "                                  printf $n \"/\"\\\n",
        "                                };\\\n",
        "                                print $NF\\\n",
        "                              }' |\\\n",
        "                  sed 's/__percent__/%/g' \"\"\"\n",
        "binder_url = !{binder_cmd_str}\n",
        "binder_md = \"[![Open In Binder](https://mybinder.org/badge_logo.svg)](\" + binder_url[0] + \")\"\n",
        "binder_html = '<a href=\"' + binder_url[0] + '\"><img src=\"https://mybinder.org/badge_logo.svg\" alt=\"Open In Colab\" style=\"height:40px; width:160px;\"></a>'\n",
        "\n",
        "if Generate_QR is True:\n",
        "  colab_qr = '<a href=\"' + colab_url[0] + '\"><img src=\"https://chart.googleapis.com/chart?chs=150x150&cht=qr&choe=UTF-8&chl=' + colab_url[0] + '\" alt=\"Open In Colab\"></a>'\n",
        "  binder_qr = '<a href=\"' + binder_url[0] + '\"><img src=\"https://chart.googleapis.com/chart?chs=150x150&cht=qr&choe=UTF-8&chl=' + binder_url[0] + '\" alt=\"Open In Colab\"></a>'\n",
        "\n",
        "if Share_icons is True:\n",
        "  colab_fb = '<a href=\"https://www.facebook.com/sharer/sharer.php?u=' + colab_url[0] + '\"><img src=\"https://upload.wikimedia.org/wikipedia/commons/8/82/Facebook_icon.jpg\" alt=\"Share on FB (Opens in Colab)\" style=\"height:23px; width:23px;\"></a>'\n",
        "  colab_tw = '<a href=\"https://twitter.com/intent/tweet?text=<Your text>' + colab_url[0] + '\" ><img src=\"https://upload.wikimedia.org/wikipedia/commons/f/f3/Twitter_icon.png\" alt=\"Share on Twitter (Opens in Colab)\" style=\"height:23px; width:23px;\"></a>'\n",
        "  colab_li = '<a href=\"https://www.linkedin.com/shareArticle?mini=true&url=' + colab_url[0] + '\"><img src=\"https://upload.wikimedia.org/wikipedia/commons/thumb/e/e9/Linkedin_icon.svg/256px-Linkedin_icon.svg.png\" alt=\"Share on LinkedIn (Opens in Colab)\" style=\"height:23px; width:23px;\"></a>'\n",
        "  colab_wa = '<a href=\"https://api.whatsapp.com/send?phone=whatsappphonenumber&text=urlencodedtext' + colab_url[0] + '\"><img src=\"https://upload.wikimedia.org/wikipedia/commons/thumb/6/6b/WhatsApp.svg/239px-WhatsApp.svg.png\" alt=\"Share on WhatsApp (Opens in Colab)\" style=\"height:23px; width:23px;\"></a>'\n",
        "  colab_tg = '<a href=\"https://telegram.me/share/url?url=<URL>&text=<TEXT>' + colab_url[0] + '\"><img src=\"https://upload.wikimedia.org/wikipedia/commons/thumb/8/82/Telegram_logo.svg/240px-Telegram_logo.svg.png\" alt=\"Share on Telegram (Opens in Colab)\" style=\"height:23px; width:23px;\"></a>'\n",
        "  colab_share = '<img src=\"https://upload.wikimedia.org/wikipedia/commons/thumb/b/bd/Share_Icon.svg/240px-Share_Icon.svg.png\" onclick=\"shareUrl()\" alt=\"Share via... (Opens in Colab)\"  style=\"height:23px; width:23px;\"></img>'\n",
        "  colab_share_html = colab_fb + '\\n' +\\\n",
        "                      colab_tw + '\\n' +\\\n",
        "                      colab_li + '\\n' +\\\n",
        "                      colab_wa + '\\n' +\\\n",
        "                      colab_tg + '\\n' +\\\n",
        "                      colab_share\n",
        "  binder_fb = '<a href=\"https://www.facebook.com/sharer/sharer.php?u=' + binder_url[0] + '\"><img src=\"https://upload.wikimedia.org/wikipedia/commons/8/82/Facebook_icon.jpg\" alt=\"Share on FB (Opens in binder)\" style=\"height:23px; width:23px;\"></a>'\n",
        "  binder_tw = '<a href=\"https://twitter.com/intent/tweet?text=<Your text>' + binder_url[0] + '\" ><img src=\"https://upload.wikimedia.org/wikipedia/commons/f/f3/Twitter_icon.png\" alt=\"Share on Twitter (Opens in binder)\" style=\"height:23px; width:23px;\"></a>'\n",
        "  binder_li = '<a href=\"https://www.linkedin.com/shareArticle?mini=true&url=' + binder_url[0] + '\"><img src=\"https://upload.wikimedia.org/wikipedia/commons/thumb/e/e9/Linkedin_icon.svg/256px-Linkedin_icon.svg.png\" alt=\"Share on LinkedIn (Opens in binder)\" style=\"height:23px; width:23px;\"></a>'\n",
        "  binder_wa = '<a href=\"https://api.whatsapp.com/send?phone=whatsappphonenumber&text=urlencodedtext' + binder_url[0] + '\"><img src=\"https://upload.wikimedia.org/wikipedia/commons/thumb/6/6b/WhatsApp.svg/239px-WhatsApp.svg.png\" alt=\"Share on WhatsApp (Opens in binder)\" style=\"height:23px; width:23px;\"></a>'\n",
        "  binder_tg = '<a href=\"https://telegram.me/share/url?url=<URL>&text=<TEXT>' + binder_url[0] + '\"><img src=\"https://upload.wikimedia.org/wikipedia/commons/thumb/8/82/Telegram_logo.svg/240px-Telegram_logo.svg.png\" alt=\"Share on Telegram (Opens in binder)\" style=\"height:23px; width:23px;\"></a>'\n",
        "  binder_share = '<img src=\"https://upload.wikimedia.org/wikipedia/commons/thumb/b/bd/Share_Icon.svg/240px-Share_Icon.svg.png\" onclick=\"shareUrl()\" alt=\"Share via... (Opens in binder)\"  style=\"height:23px; width:23px;\"></img>'\n",
        "  binder_share_html = binder_fb + '\\n' +\\\n",
        "                      binder_tw + '\\n' +\\\n",
        "                      binder_li + '\\n' +\\\n",
        "                      binder_wa + '\\n' +\\\n",
        "                      binder_tg + '\\n' +\\\n",
        "                      binder_share\n",
        "\n",
        "if Display_code is False:\n",
        "  if Tested_on_Colab:\n",
        "    title(\"Run this notebook on Colab:\")\n",
        "    if Generate_QR is True:\n",
        "      display(html(colab_qr))\n",
        "    display(html(colab_html))\n",
        "    if Share_icons is True:\n",
        "      display(html(colab_share_html))\n",
        "\n",
        "  if Tested_on_Binder:\n",
        "    title(\"Run this notebook on Binder:\")\n",
        "    if Generate_QR is True:\n",
        "      display(html(binder_qr))\n",
        "    display(html(binder_html))\n",
        "    if Share_icons is True:\n",
        "      display(html(binder_share_html))\n",
        "\n",
        "else:\n",
        "  title(\"URLs:\")\n",
        "  if Tested_on_Colab:\n",
        "    disp_as_code(\"Colab URL:\\n\" + colab_url[0])\n",
        "  if Tested_on_Binder:\n",
        "    disp_as_code(\"Binder URL:\\n\" + binder_url[0])\n",
        "  print()\n",
        "\n",
        "  title(\"Markdown badges:\")\n",
        "  if Tested_on_Colab:\n",
        "    display(md(colab_md))\n",
        "    disp_as_code(colab_md)\n",
        "  if Tested_on_Binder:\n",
        "    display(md(binder_md))\n",
        "    disp_as_code(binder_md)\n",
        "  print()\n",
        "\n",
        "  title(\"HTML badges:\")\n",
        "  if Tested_on_Colab:\n",
        "    display(html(colab_html))\n",
        "    disp_as_code(colab_html)\n",
        "  if Tested_on_Binder:\n",
        "    display(html(binder_html))\n",
        "    disp_as_code(binder_html)\n",
        "  print()\n",
        "\n",
        "  if Generate_QR is True:\n",
        "    title(\"QR badges:\")\n",
        "    if Tested_on_Colab:\n",
        "      display(html(colab_qr))\n",
        "      disp_as_code(\"Scan QR to open in Colab\")\n",
        "      disp_as_code(colab_qr)\n",
        "    if Tested_on_Binder:\n",
        "      display(md(binder_qr))\n",
        "      disp_as_code(\"Scan QR to launch on Binder\")\n",
        "      disp_as_code(binder_qr)\n",
        "    print()\n",
        "\n",
        "  if Share_icons is True:\n",
        "    title(\"Sharing badges\")\n",
        "    if Tested_on_Colab:\n",
        "      disp_as_code(\"Share to open in Colab\")\n",
        "      display(html(colab_share_html))\n",
        "      disp_as_code(colab_share_html)\n",
        "    if Tested_on_Binder:\n",
        "      disp_as_code(\"Share to launch on Binder\")\n",
        "      display(html(binder_share_html))\n",
        "      disp_as_code(binder_share_html)\n"
      ],
      "execution_count": 116,
      "outputs": [
        {
          "output_type": "display_data",
          "data": {
            "application/javascript": [
              "// Share Url\n",
              "                shareUrl = function() {\n",
              "                    if (!navigator.share) return;\n",
              "                    navigator.share({\n",
              "                            url: \"https://mywebsite.com\",\n",
              "                            title: \"Sharing Cool things\",\n",
              "                            text: \"Checkout my really cool website.\"\n",
              "                        })\n",
              "                        .then(() => { console.log(\"Shared YEEEE!!!!!\"); })\n",
              "                        .catch((error) => { console.log(\"Sharing Failed\") });\n",
              "                }\n"
            ],
            "text/plain": [
              "<IPython.core.display.Javascript object>"
            ]
          },
          "metadata": {}
        },
        {
          "output_type": "display_data",
          "data": {
            "application/javascript": [
              "// Sharing Files\n",
              "                shareFile = function (file) {\n",
              "                    var filesArray = [file];\n",
              "                    if (!navigator.canShare || !navigator.canShare({ files: filesArray })) return;\n",
              "                    navigator.share({\n",
              "                        files: filesArray,\n",
              "                        title: 'My File',\n",
              "                        text: 'Here, Sharing my files. Keep it safe',\n",
              "                    }).then(() => console.log('Share was successful.'))\n",
              "                      .catch((error) => console.log('Sharing failed', error));\n",
              "                }\n"
            ],
            "text/plain": [
              "<IPython.core.display.Javascript object>"
            ]
          },
          "metadata": {}
        },
        {
          "output_type": "display_data",
          "data": {
            "text/markdown": "### Run this notebook on Colab:",
            "text/plain": [
              "<IPython.core.display.Markdown object>"
            ]
          },
          "metadata": {}
        },
        {
          "output_type": "display_data",
          "data": {
            "text/html": [
              "<a href=\"https://colab.research.google.com/github/hindawiai/chintamani/blob/master/Notebooks/NBrunner.ipynb\"><img src=\"https://chart.googleapis.com/chart?chs=150x150&cht=qr&choe=UTF-8&chl=https://colab.research.google.com/github/hindawiai/chintamani/blob/master/Notebooks/NBrunner.ipynb\" alt=\"Open In Colab\"></a>"
            ],
            "text/plain": [
              "<IPython.core.display.HTML object>"
            ]
          },
          "metadata": {}
        },
        {
          "output_type": "display_data",
          "data": {
            "text/html": [
              "<a href=\"https://colab.research.google.com/github/hindawiai/chintamani/blob/master/Notebooks/NBrunner.ipynb\"><img src=\"https://colab.research.google.com/assets/colab-badge.svg\" alt=\"Open In Colab\" style=\"height:40px; width:160px;\"></a>"
            ],
            "text/plain": [
              "<IPython.core.display.HTML object>"
            ]
          },
          "metadata": {}
        },
        {
          "output_type": "display_data",
          "data": {
            "text/html": [
              "<a href=\"https://www.facebook.com/sharer/sharer.php?u=https://colab.research.google.com/github/hindawiai/chintamani/blob/master/Notebooks/NBrunner.ipynb\"><img src=\"https://upload.wikimedia.org/wikipedia/commons/8/82/Facebook_icon.jpg\" alt=\"Share on FB (Opens in Colab)\" style=\"height:23px; width:23px;\"></a>\n",
              "<a href=\"https://twitter.com/intent/tweet?text=<Your text>https://colab.research.google.com/github/hindawiai/chintamani/blob/master/Notebooks/NBrunner.ipynb\" ><img src=\"https://upload.wikimedia.org/wikipedia/commons/f/f3/Twitter_icon.png\" alt=\"Share on Twitter (Opens in Colab)\" style=\"height:23px; width:23px;\"></a>\n",
              "<a href=\"https://www.linkedin.com/shareArticle?mini=true&url=https://colab.research.google.com/github/hindawiai/chintamani/blob/master/Notebooks/NBrunner.ipynb\"><img src=\"https://upload.wikimedia.org/wikipedia/commons/thumb/e/e9/Linkedin_icon.svg/256px-Linkedin_icon.svg.png\" alt=\"Share on LinkedIn (Opens in Colab)\" style=\"height:23px; width:23px;\"></a>\n",
              "<a href=\"https://api.whatsapp.com/send?phone=whatsappphonenumber&text=urlencodedtexthttps://colab.research.google.com/github/hindawiai/chintamani/blob/master/Notebooks/NBrunner.ipynb\"><img src=\"https://upload.wikimedia.org/wikipedia/commons/thumb/6/6b/WhatsApp.svg/239px-WhatsApp.svg.png\" alt=\"Share on WhatsApp (Opens in Colab)\" style=\"height:23px; width:23px;\"></a>\n",
              "<a href=\"https://telegram.me/share/url?url=<URL>&text=<TEXT>https://colab.research.google.com/github/hindawiai/chintamani/blob/master/Notebooks/NBrunner.ipynb\"><img src=\"https://upload.wikimedia.org/wikipedia/commons/thumb/8/82/Telegram_logo.svg/240px-Telegram_logo.svg.png\" alt=\"Share on Telegram (Opens in Colab)\" style=\"height:23px; width:23px;\"></a>\n",
              "<img src=\"https://upload.wikimedia.org/wikipedia/commons/thumb/b/bd/Share_Icon.svg/240px-Share_Icon.svg.png\" onclick=\"shareUrl()\" alt=\"Share via... (Opens in Colab)\"  style=\"height:23px; width:23px;\"></img>"
            ],
            "text/plain": [
              "<IPython.core.display.HTML object>"
            ]
          },
          "metadata": {}
        },
        {
          "output_type": "display_data",
          "data": {
            "text/markdown": "### Run this notebook on Binder:",
            "text/plain": [
              "<IPython.core.display.Markdown object>"
            ]
          },
          "metadata": {}
        },
        {
          "output_type": "display_data",
          "data": {
            "text/html": [
              "<a href=\"https://mybinder.org/v2/gh/hindawiai/chintamani/master/?filepath=Notebooks/NBrunner.ipynb\"><img src=\"https://chart.googleapis.com/chart?chs=150x150&cht=qr&choe=UTF-8&chl=https://mybinder.org/v2/gh/hindawiai/chintamani/master/?filepath=Notebooks/NBrunner.ipynb\" alt=\"Open In Colab\"></a>"
            ],
            "text/plain": [
              "<IPython.core.display.HTML object>"
            ]
          },
          "metadata": {}
        },
        {
          "output_type": "display_data",
          "data": {
            "text/html": [
              "<a href=\"https://mybinder.org/v2/gh/hindawiai/chintamani/master/?filepath=Notebooks/NBrunner.ipynb\"><img src=\"https://mybinder.org/badge_logo.svg\" alt=\"Open In Colab\" style=\"height:40px; width:160px;\"></a>"
            ],
            "text/plain": [
              "<IPython.core.display.HTML object>"
            ]
          },
          "metadata": {}
        },
        {
          "output_type": "display_data",
          "data": {
            "text/html": [
              "<a href=\"https://www.facebook.com/sharer/sharer.php?u=https://mybinder.org/v2/gh/hindawiai/chintamani/master/?filepath=Notebooks/NBrunner.ipynb\"><img src=\"https://upload.wikimedia.org/wikipedia/commons/8/82/Facebook_icon.jpg\" alt=\"Share on FB (Opens in binder)\" style=\"height:23px; width:23px;\"></a>\n",
              "<a href=\"https://twitter.com/intent/tweet?text=<Your text>https://mybinder.org/v2/gh/hindawiai/chintamani/master/?filepath=Notebooks/NBrunner.ipynb\" ><img src=\"https://upload.wikimedia.org/wikipedia/commons/f/f3/Twitter_icon.png\" alt=\"Share on Twitter (Opens in binder)\" style=\"height:23px; width:23px;\"></a>\n",
              "<a href=\"https://www.linkedin.com/shareArticle?mini=true&url=https://mybinder.org/v2/gh/hindawiai/chintamani/master/?filepath=Notebooks/NBrunner.ipynb\"><img src=\"https://upload.wikimedia.org/wikipedia/commons/thumb/e/e9/Linkedin_icon.svg/256px-Linkedin_icon.svg.png\" alt=\"Share on LinkedIn (Opens in binder)\" style=\"height:23px; width:23px;\"></a>\n",
              "<a href=\"https://api.whatsapp.com/send?phone=whatsappphonenumber&text=urlencodedtexthttps://mybinder.org/v2/gh/hindawiai/chintamani/master/?filepath=Notebooks/NBrunner.ipynb\"><img src=\"https://upload.wikimedia.org/wikipedia/commons/thumb/6/6b/WhatsApp.svg/239px-WhatsApp.svg.png\" alt=\"Share on WhatsApp (Opens in binder)\" style=\"height:23px; width:23px;\"></a>\n",
              "<a href=\"https://telegram.me/share/url?url=<URL>&text=<TEXT>https://mybinder.org/v2/gh/hindawiai/chintamani/master/?filepath=Notebooks/NBrunner.ipynb\"><img src=\"https://upload.wikimedia.org/wikipedia/commons/thumb/8/82/Telegram_logo.svg/240px-Telegram_logo.svg.png\" alt=\"Share on Telegram (Opens in binder)\" style=\"height:23px; width:23px;\"></a>\n",
              "<img src=\"https://upload.wikimedia.org/wikipedia/commons/thumb/b/bd/Share_Icon.svg/240px-Share_Icon.svg.png\" onclick=\"shareUrl()\" alt=\"Share via... (Opens in binder)\"  style=\"height:23px; width:23px;\"></img>"
            ],
            "text/plain": [
              "<IPython.core.display.HTML object>"
            ]
          },
          "metadata": {}
        }
      ]
    }
  ]
}