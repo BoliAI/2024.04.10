{
  "nbformat": 4,
  "nbformat_minor": 0,
  "metadata": {
    "colab": {
      "name": "NBrunner.ipynb",
      "provenance": [],
      "collapsed_sections": []
    },
    "kernelspec": {
      "name": "python3",
      "display_name": "Python 3"
    },
    "language_info": {
      "name": "python"
    }
  },
  "cells": [
    {
      "cell_type": "markdown",
      "metadata": {
        "id": "KXp_YNUl2A86"
      },
      "source": [
        "(C) Copyright 2021 Abhishek Choudhary<br>\n",
        "AyeSPL license. No Warranty No Liability<br>\n",
        "<br>\n",
        "Trademarks are acknowledged as belonging to their respective owners."
      ]
    },
    {
      "cell_type": "code",
      "metadata": {
        "colab": {
          "base_uri": "https://localhost:8080/",
          "height": 765
        },
        "id": "hUTl-bvZoQz-",
        "cellView": "form",
        "outputId": "6ea7c677-cbc7-4ed8-cd76-4f4a74dd23f6"
      },
      "source": [
        "#@title Notebook Runner { run: \"auto\", vertical-output: true, form-width: \"600px\" }\n",
        "from IPython.display import display\n",
        "from IPython.display import Markdown as md\n",
        "from IPython.display import HTML as html\n",
        "\n",
        "Notebook_URL = \"https://github.com/srija-ieee/chintamani/blob/master/Notebooks/PY_Operators_%E0%B0%A4%E0%B1%86%E0%B0%B2%E0%B1%81%E0%B0%97%E0%B1%81_%E0%B0%B9%E0%B0%BF%E0%B0%82%E0%B0%A6%E0%B0%B5%E0%B0%BF_2021_9_%E0%B0%A8%E0%B1%8B%E0%B0%9F%E0%B1%8D%E0%B0%AC%E0%B1%81%E0%B0%95%E0%B1%8D.ipynb\" #@param {type:\"string\"}\n",
        "Tested_on_Colab = True #@param {type:\"boolean\"}\n",
        "Tested_on_Binder = True #@param {type:\"boolean\"}\n",
        "\n",
        "colab_cmd_str = \"echo \" + Notebook_URL + \"\"\" |\\\n",
        "                  sed 's/%/__percent__/g' |\\\n",
        "                  awk -F'/' '{ printf \"https://colab.research.google.com/github/\";\\\n",
        "                                for(n=4;n<NF;n++)\\\n",
        "                                {\\\n",
        "                                  printf $n \"/\"\\\n",
        "                                };\\\n",
        "                                print $NF\\\n",
        "                              }' |\\\n",
        "                  sed 's/__percent__/%/g' \"\"\"\n",
        "colab_url = !{colab_cmd_str}\n",
        "colab_md = \"[![Open In Colab](https://colab.research.google.com/assets/colab-badge.svg)](\" + colab_url[0] + \")\"\n",
        "colab_html = '<a href=\"' + colab_url[0] + '\"><img src=\"https://colab.research.google.com/assets/colab-badge.svg\" alt=\"Open In Colab\"></a>'\n",
        "colab_qr = '<a href=\"' + colab_url[0] + '\"><img src=\"https://chart.googleapis.com/chart?chs=150x150&cht=qr&choe=UTF-8&chl=' + colab_url[0] + '\" alt=\"Open In Colab\"></a>'\n",
        "\n",
        "binder_cmd_str = \"echo \" + Notebook_URL + \"\"\" |\\\n",
        "                  sed 's/%/__percent__/g' |\\\n",
        "                  awk -F'/' '{ printf \"https://mybinder.org/v2/gh/\" $4 \"/\" $5 \"/\" $7 \"/\";\\\n",
        "                                printf \"?filepath=\";\\\n",
        "                                for(n=8;n<NF;n++)\\\n",
        "                                {\\\n",
        "                                  printf $n \"/\"\\\n",
        "                                };\\\n",
        "                                print $NF\\\n",
        "                              }' |\\\n",
        "                  sed 's/__percent__/%/g' \"\"\"\n",
        "binder_url = !{binder_cmd_str}\n",
        "binder_md = \"[![Open In Binder](https://mybinder.org/badge_logo.svg)](\" + binder_url[0] + \")\"\n",
        "binder_html = '<a href=\"' + binder_url[0] + '\"><img src=\"https://mybinder.org/badge_logo.svg\" alt=\"Open In Colab\"></a>'\n",
        "binder_qr = '<a href=\"' + binder_url[0] + '\"><img src=\"https://chart.googleapis.com/chart?chs=150x150&cht=qr&choe=UTF-8&chl=' + binder_url[0] + '\" alt=\"Open In Colab\"></a>'\n",
        "\n",
        "print(\"URLs:\")\n",
        "if Tested_on_Colab:\n",
        "  print(\"Colab URL :\",colab_url[0])\n",
        "if Tested_on_Binder:\n",
        "  print(\"Binder URL:\",binder_url[0])\n",
        "print()\n",
        "\n",
        "print(\"Markdown badges:\")\n",
        "if Tested_on_Colab:\n",
        "  display(md(colab_md))\n",
        "  print(colab_md)\n",
        "if Tested_on_Binder:\n",
        "  display(md(binder_md))\n",
        "  print(binder_md)\n",
        "print()\n",
        "\n",
        "print(\"HTML badges:\")\n",
        "if Tested_on_Colab:\n",
        "  display(html(colab_html))\n",
        "  print(colab_html)\n",
        "if Tested_on_Binder:\n",
        "  display(md(binder_html))\n",
        "  print(binder_html)\n",
        "print()\n",
        "\n",
        "print(\"QR badges:\")\n",
        "if Tested_on_Colab:\n",
        "  display(html(colab_qr))\n",
        "  print(colab_qr)\n",
        "if Tested_on_Binder:\n",
        "  display(md(binder_qr))\n",
        "  print(binder_qr)\n",
        "print()\n",
        "\n",
        "#https://chart.googleapis.com/chart?chs=150x150&cht=qr&choe=UTF-8&chl=\n"
      ],
      "execution_count": 26,
      "outputs": [
        {
          "output_type": "stream",
          "name": "stdout",
          "text": [
            "URLs:\n",
            "Colab URL : https://colab.research.google.com/github/srija-ieee/chintamani/blob/master/Notebooks/PY_Operators_%E0%B0%A4%E0%B1%86%E0%B0%B2%E0%B1%81%E0%B0%97%E0%B1%81_%E0%B0%B9%E0%B0%BF%E0%B0%82%E0%B0%A6%E0%B0%B5%E0%B0%BF_2021_9_%E0%B0%A8%E0%B1%8B%E0%B0%9F%E0%B1%8D%E0%B0%AC%E0%B1%81%E0%B0%95%E0%B1%8D.ipynb\n",
            "Binder URL: https://mybinder.org/v2/gh/srija-ieee/chintamani/master/?filepath=Notebooks/PY_Operators_%E0%B0%A4%E0%B1%86%E0%B0%B2%E0%B1%81%E0%B0%97%E0%B1%81_%E0%B0%B9%E0%B0%BF%E0%B0%82%E0%B0%A6%E0%B0%B5%E0%B0%BF_2021_9_%E0%B0%A8%E0%B1%8B%E0%B0%9F%E0%B1%8D%E0%B0%AC%E0%B1%81%E0%B0%95%E0%B1%8D.ipynb\n",
            "\n",
            "Markdown badges:\n"
          ]
        },
        {
          "output_type": "display_data",
          "data": {
            "text/markdown": "[![Open In Colab](https://colab.research.google.com/assets/colab-badge.svg)](https://colab.research.google.com/github/srija-ieee/chintamani/blob/master/Notebooks/PY_Operators_%E0%B0%A4%E0%B1%86%E0%B0%B2%E0%B1%81%E0%B0%97%E0%B1%81_%E0%B0%B9%E0%B0%BF%E0%B0%82%E0%B0%A6%E0%B0%B5%E0%B0%BF_2021_9_%E0%B0%A8%E0%B1%8B%E0%B0%9F%E0%B1%8D%E0%B0%AC%E0%B1%81%E0%B0%95%E0%B1%8D.ipynb)",
            "text/plain": [
              "<IPython.core.display.Markdown object>"
            ]
          },
          "metadata": {}
        },
        {
          "output_type": "stream",
          "name": "stdout",
          "text": [
            "[![Open In Colab](https://colab.research.google.com/assets/colab-badge.svg)](https://colab.research.google.com/github/srija-ieee/chintamani/blob/master/Notebooks/PY_Operators_%E0%B0%A4%E0%B1%86%E0%B0%B2%E0%B1%81%E0%B0%97%E0%B1%81_%E0%B0%B9%E0%B0%BF%E0%B0%82%E0%B0%A6%E0%B0%B5%E0%B0%BF_2021_9_%E0%B0%A8%E0%B1%8B%E0%B0%9F%E0%B1%8D%E0%B0%AC%E0%B1%81%E0%B0%95%E0%B1%8D.ipynb)\n"
          ]
        },
        {
          "output_type": "display_data",
          "data": {
            "text/markdown": "[![Open In Binder](https://mybinder.org/badge_logo.svg)](https://mybinder.org/v2/gh/srija-ieee/chintamani/master/?filepath=Notebooks/PY_Operators_%E0%B0%A4%E0%B1%86%E0%B0%B2%E0%B1%81%E0%B0%97%E0%B1%81_%E0%B0%B9%E0%B0%BF%E0%B0%82%E0%B0%A6%E0%B0%B5%E0%B0%BF_2021_9_%E0%B0%A8%E0%B1%8B%E0%B0%9F%E0%B1%8D%E0%B0%AC%E0%B1%81%E0%B0%95%E0%B1%8D.ipynb)",
            "text/plain": [
              "<IPython.core.display.Markdown object>"
            ]
          },
          "metadata": {}
        },
        {
          "output_type": "stream",
          "name": "stdout",
          "text": [
            "[![Open In Binder](https://mybinder.org/badge_logo.svg)](https://mybinder.org/v2/gh/srija-ieee/chintamani/master/?filepath=Notebooks/PY_Operators_%E0%B0%A4%E0%B1%86%E0%B0%B2%E0%B1%81%E0%B0%97%E0%B1%81_%E0%B0%B9%E0%B0%BF%E0%B0%82%E0%B0%A6%E0%B0%B5%E0%B0%BF_2021_9_%E0%B0%A8%E0%B1%8B%E0%B0%9F%E0%B1%8D%E0%B0%AC%E0%B1%81%E0%B0%95%E0%B1%8D.ipynb)\n",
            "\n",
            "HTML badges:\n"
          ]
        },
        {
          "output_type": "display_data",
          "data": {
            "text/html": [
              "<a href=\"https://colab.research.google.com/github/srija-ieee/chintamani/blob/master/Notebooks/PY_Operators_%E0%B0%A4%E0%B1%86%E0%B0%B2%E0%B1%81%E0%B0%97%E0%B1%81_%E0%B0%B9%E0%B0%BF%E0%B0%82%E0%B0%A6%E0%B0%B5%E0%B0%BF_2021_9_%E0%B0%A8%E0%B1%8B%E0%B0%9F%E0%B1%8D%E0%B0%AC%E0%B1%81%E0%B0%95%E0%B1%8D.ipynb\"><img src=\"https://colab.research.google.com/assets/colab-badge.svg\" alt=\"Open In Colab\"></a>"
            ],
            "text/plain": [
              "<IPython.core.display.HTML object>"
            ]
          },
          "metadata": {}
        },
        {
          "output_type": "stream",
          "name": "stdout",
          "text": [
            "<a href=\"https://colab.research.google.com/github/srija-ieee/chintamani/blob/master/Notebooks/PY_Operators_%E0%B0%A4%E0%B1%86%E0%B0%B2%E0%B1%81%E0%B0%97%E0%B1%81_%E0%B0%B9%E0%B0%BF%E0%B0%82%E0%B0%A6%E0%B0%B5%E0%B0%BF_2021_9_%E0%B0%A8%E0%B1%8B%E0%B0%9F%E0%B1%8D%E0%B0%AC%E0%B1%81%E0%B0%95%E0%B1%8D.ipynb\"><img src=\"https://colab.research.google.com/assets/colab-badge.svg\" alt=\"Open In Colab\"></a>\n"
          ]
        },
        {
          "output_type": "display_data",
          "data": {
            "text/markdown": "<a href=\"https://mybinder.org/v2/gh/srija-ieee/chintamani/master/?filepath=Notebooks/PY_Operators_%E0%B0%A4%E0%B1%86%E0%B0%B2%E0%B1%81%E0%B0%97%E0%B1%81_%E0%B0%B9%E0%B0%BF%E0%B0%82%E0%B0%A6%E0%B0%B5%E0%B0%BF_2021_9_%E0%B0%A8%E0%B1%8B%E0%B0%9F%E0%B1%8D%E0%B0%AC%E0%B1%81%E0%B0%95%E0%B1%8D.ipynb\"><img src=\"https://mybinder.org/badge_logo.svg\" alt=\"Open In Colab\"></a>",
            "text/plain": [
              "<IPython.core.display.Markdown object>"
            ]
          },
          "metadata": {}
        },
        {
          "output_type": "stream",
          "name": "stdout",
          "text": [
            "<a href=\"https://mybinder.org/v2/gh/srija-ieee/chintamani/master/?filepath=Notebooks/PY_Operators_%E0%B0%A4%E0%B1%86%E0%B0%B2%E0%B1%81%E0%B0%97%E0%B1%81_%E0%B0%B9%E0%B0%BF%E0%B0%82%E0%B0%A6%E0%B0%B5%E0%B0%BF_2021_9_%E0%B0%A8%E0%B1%8B%E0%B0%9F%E0%B1%8D%E0%B0%AC%E0%B1%81%E0%B0%95%E0%B1%8D.ipynb\"><img src=\"https://mybinder.org/badge_logo.svg\" alt=\"Open In Colab\"></a>\n",
            "\n",
            "QR badges:\n"
          ]
        },
        {
          "output_type": "display_data",
          "data": {
            "text/html": [
              "<a href=\"https://colab.research.google.com/github/srija-ieee/chintamani/blob/master/Notebooks/PY_Operators_%E0%B0%A4%E0%B1%86%E0%B0%B2%E0%B1%81%E0%B0%97%E0%B1%81_%E0%B0%B9%E0%B0%BF%E0%B0%82%E0%B0%A6%E0%B0%B5%E0%B0%BF_2021_9_%E0%B0%A8%E0%B1%8B%E0%B0%9F%E0%B1%8D%E0%B0%AC%E0%B1%81%E0%B0%95%E0%B1%8D.ipynb\"><img src=\"https://chart.googleapis.com/chart?chs=150x150&cht=qr&choe=UTF-8&chl=https://colab.research.google.com/github/srija-ieee/chintamani/blob/master/Notebooks/PY_Operators_%E0%B0%A4%E0%B1%86%E0%B0%B2%E0%B1%81%E0%B0%97%E0%B1%81_%E0%B0%B9%E0%B0%BF%E0%B0%82%E0%B0%A6%E0%B0%B5%E0%B0%BF_2021_9_%E0%B0%A8%E0%B1%8B%E0%B0%9F%E0%B1%8D%E0%B0%AC%E0%B1%81%E0%B0%95%E0%B1%8D.ipynb\" alt=\"Open In Colab\"></a>"
            ],
            "text/plain": [
              "<IPython.core.display.HTML object>"
            ]
          },
          "metadata": {}
        },
        {
          "output_type": "stream",
          "name": "stdout",
          "text": [
            "<a href=\"https://colab.research.google.com/github/srija-ieee/chintamani/blob/master/Notebooks/PY_Operators_%E0%B0%A4%E0%B1%86%E0%B0%B2%E0%B1%81%E0%B0%97%E0%B1%81_%E0%B0%B9%E0%B0%BF%E0%B0%82%E0%B0%A6%E0%B0%B5%E0%B0%BF_2021_9_%E0%B0%A8%E0%B1%8B%E0%B0%9F%E0%B1%8D%E0%B0%AC%E0%B1%81%E0%B0%95%E0%B1%8D.ipynb\"><img src=\"https://chart.googleapis.com/chart?chs=150x150&cht=qr&choe=UTF-8&chl=https://colab.research.google.com/github/srija-ieee/chintamani/blob/master/Notebooks/PY_Operators_%E0%B0%A4%E0%B1%86%E0%B0%B2%E0%B1%81%E0%B0%97%E0%B1%81_%E0%B0%B9%E0%B0%BF%E0%B0%82%E0%B0%A6%E0%B0%B5%E0%B0%BF_2021_9_%E0%B0%A8%E0%B1%8B%E0%B0%9F%E0%B1%8D%E0%B0%AC%E0%B1%81%E0%B0%95%E0%B1%8D.ipynb\" alt=\"Open In Colab\"></a>\n"
          ]
        },
        {
          "output_type": "display_data",
          "data": {
            "text/markdown": "<a href=\"https://mybinder.org/v2/gh/srija-ieee/chintamani/master/?filepath=Notebooks/PY_Operators_%E0%B0%A4%E0%B1%86%E0%B0%B2%E0%B1%81%E0%B0%97%E0%B1%81_%E0%B0%B9%E0%B0%BF%E0%B0%82%E0%B0%A6%E0%B0%B5%E0%B0%BF_2021_9_%E0%B0%A8%E0%B1%8B%E0%B0%9F%E0%B1%8D%E0%B0%AC%E0%B1%81%E0%B0%95%E0%B1%8D.ipynb\"><img src=\"https://chart.googleapis.com/chart?chs=150x150&cht=qr&choe=UTF-8&chl=https://mybinder.org/v2/gh/srija-ieee/chintamani/master/?filepath=Notebooks/PY_Operators_%E0%B0%A4%E0%B1%86%E0%B0%B2%E0%B1%81%E0%B0%97%E0%B1%81_%E0%B0%B9%E0%B0%BF%E0%B0%82%E0%B0%A6%E0%B0%B5%E0%B0%BF_2021_9_%E0%B0%A8%E0%B1%8B%E0%B0%9F%E0%B1%8D%E0%B0%AC%E0%B1%81%E0%B0%95%E0%B1%8D.ipynb\" alt=\"Open In Colab\"></a>",
            "text/plain": [
              "<IPython.core.display.Markdown object>"
            ]
          },
          "metadata": {}
        },
        {
          "output_type": "stream",
          "name": "stdout",
          "text": [
            "<a href=\"https://mybinder.org/v2/gh/srija-ieee/chintamani/master/?filepath=Notebooks/PY_Operators_%E0%B0%A4%E0%B1%86%E0%B0%B2%E0%B1%81%E0%B0%97%E0%B1%81_%E0%B0%B9%E0%B0%BF%E0%B0%82%E0%B0%A6%E0%B0%B5%E0%B0%BF_2021_9_%E0%B0%A8%E0%B1%8B%E0%B0%9F%E0%B1%8D%E0%B0%AC%E0%B1%81%E0%B0%95%E0%B1%8D.ipynb\"><img src=\"https://chart.googleapis.com/chart?chs=150x150&cht=qr&choe=UTF-8&chl=https://mybinder.org/v2/gh/srija-ieee/chintamani/master/?filepath=Notebooks/PY_Operators_%E0%B0%A4%E0%B1%86%E0%B0%B2%E0%B1%81%E0%B0%97%E0%B1%81_%E0%B0%B9%E0%B0%BF%E0%B0%82%E0%B0%A6%E0%B0%B5%E0%B0%BF_2021_9_%E0%B0%A8%E0%B1%8B%E0%B0%9F%E0%B1%8D%E0%B0%AC%E0%B1%81%E0%B0%95%E0%B1%8D.ipynb\" alt=\"Open In Colab\"></a>\n",
            "\n"
          ]
        }
      ]
    }
  ]
}