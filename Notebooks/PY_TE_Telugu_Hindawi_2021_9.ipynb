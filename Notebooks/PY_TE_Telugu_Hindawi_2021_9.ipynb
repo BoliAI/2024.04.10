{
  "nbformat": 4,
  "nbformat_minor": 0,
  "metadata": {
    "kernelspec": {
      "display_name": "Python 3",
      "language": "python",
      "name": "python3"
    },
    "language_info": {
      "codemirror_mode": {
        "name": "ipython",
        "version": 3
      },
      "file_extension": ".py",
      "mimetype": "text/x-python",
      "name": "python",
      "nbconvert_exporter": "python",
      "pygments_lexer": "ipython3",
      "version": "3.8.2"
    },
    "colab": {
      "name": "PY_TE Telugu Hindawi 2021.9 నోట్బుక్",
      "provenance": [],
      "collapsed_sections": [
        "yYc5p2xhYS7i",
        "T-Qua1WBEtvM"
      ]
    }
  },
  "cells": [
    {
      "cell_type": "markdown",
      "metadata": {
        "id": "p294gsLmfrBa"
      },
      "source": [
        "# **హిందవి ప్రస్తారణ వ్యవస్థ** 2021.6 \n",
        "\n",
        "Hindawi Programming System 2021.6<br>\n",
        "Copyright (C) 2004-2021 Abhishek Choudhary, Dr Srija Katta<br>\n",
        "AyeSPL license. NO WARRANTY.\n"
      ]
    },
    {
      "cell_type": "markdown",
      "metadata": {
        "id": "yYc5p2xhYS7i"
      },
      "source": [
        "## పరిచయం(Introduction) \n",
        "**హిందవి ప్రోగ్రామింగ్ సిస్టమ్ మాతృభాషలో ప్రాధమిక స్థాయి నుండి గేట్ కంప్యూటర్ ఇంజనీరింగ్ ([GATE CSE](https://gate.iitb.ac.in/syllabi.php)) స్థాయి వరకు ప్రోగ్రామింగ్‌ను అనుమతిస్తుంది. సూపర్ కంప్యూటింగ్ [సూపర్కంప్యూటింగ్](https://hi.wikipedia.org/wiki/%E0%A4%AE%E0%A4%B9%E0%A4%BE%E0%A4%B8%E0%A4%82%E0%A4%97%E0%A4%A3%E0%A4%95) (HPC),  ఐఒటి(IoT), క్వాంటం కంప్యూటింగ్ మరియు డిఎన్‌ఎ కంప్యూటింగ్  ([DNA computing](https://en.wikipedia.org/wiki/DNA_computing)) పరిశోధన మరియు ప్రోగ్రామింగ్ కూడా హిందవి ఉపయోగించి మాతృభాషలో సాధ్యమే. ఇది కల కాదు - ఇది నిజం!  దీన్ని ఇప్పుడు ఆన్‌లైన్‌లో ధృవీకరించండి. రండి సాంకేతిక విభజన(digital divide), అభిజ్ఞా విభజన (cognitive divide - మాతృభాషను ఉపయోగించి AI ని అభివృద్ధి చేయలేకపోవడం) లేదా భాషా విభజన (linguistic divide) లేకుండా సాంకేతిక ఏకవచన (technical singularity) ప్రయాణాన్ని పూర్తి చేద్దాం. \n",
        "\n",
        "**డిస్క్లైమర్ **: హిందవి ప్రోగ్రామింగ్ సిస్టమ్ యొక్క పరిపూర్ణతకు సూచనగా మాత్రమే గేట్ ప్రస్తావించబడింది. గేట్ పరీక్షల నిర్వాహణతో మాకు ఎటువంటి సంబంధం లేదు. 2021 వరకు గేట్ సిఎస్ఇ ప్రోగ్రామింగ్ భాషల ప్రామాణిక వైవిధ్యాలను మాత్రమే ఉపయోగిస్తుంది మరియు తెలుగు వెర్షన్ కాదు. ఈ యుటిలిటీ రచయితలచే బాహ్య లింక్‌లు నియంత్రించబడవు.\n",
        "\n"
      ]
    },
    {
      "cell_type": "markdown",
      "metadata": {
        "id": "gOM1X9hJUWrt"
      },
      "source": [
        "Hindawi Programming System makes programming feasible in mother tongue from primary levels to GATE Computer Engineering level. Research and programming is feasible using Hindawi in supercomputing, IoT, robotics, artificial intelligence, quantum computing and also DNA computing is possible in mother tongue. This is not a dream - its a reality! Verify it online right now. Lets approach the technological singularity without any digital divide, cognitive divide (inability of developing AI using mother tongue), or linguistic divide.\n",
        "\n",
        "**Disclaimer**: GATE is only mentioned with reference to the completeness of Hindawi Programming System. We are not associated with conduct of the GATE examinations. As of 2021 GATE CSE only uses the standard forms of the programming languages and not the Hindi version. External links are not controlled by the authors of this utility."
      ]
    },
    {
      "cell_type": "markdown",
      "metadata": {
        "id": "T-Qua1WBEtvM"
      },
      "source": [
        "# సంస్థాపన(Initialize)\n",
        "\n",
        "ఇది హిందవిని నడపడానికి జూపిటర్ నోట్బుక్ వాతావరణాన్ని అనుమతిస్తుంది. నెమ్మదిగా ఉన్న సిస్టమ్‌లలో దీనికి కొన్ని నిమిషాలు పట్టవచ్చు. చాలా క్లౌడ్ పరిసరాలలో ఇది కొన్ని సెకన్లలో పూర్తవుతుంది.\n",
        "\n",
        "This enables Hindawi in the Jupyter notebook environment. It may take a few minutes on slower systems. On most cloud environments this completes in few seconds.\n",
        "\n",
        "👈 इस सेल को चलाने के लिए प्ले बटन (▶) दबाएं"
      ]
    },
    {
      "cell_type": "code",
      "metadata": {
        "id": "fEf5G-CzMb3M",
        "colab": {
          "base_uri": "https://localhost:8080/"
        },
        "cellView": "form",
        "outputId": "2a547ee1-8b63-4397-dc97-492771826a92"
      },
      "source": [
        "#@title स्थापना (Installation) { vertical-output: true }\n",
        "#@markdown 👈 ఈ సెల్‌ను ప్లే చేయడానికి బటన్‌ను ప్లే చేయండి (▶) నొక్కండి\n",
        "#@markdown <br>\n",
        "#@markdown ఇతర కణాలను ఉపయోగించటానికి ముందు ఇది కనీసం ఒక్కసారైనా అమలు చేయాలి\n",
        "#@markdown <br>\n",
        "#@markdown This must be run at least once before the other cells can be used\n",
        "%%shell\n",
        " \n",
        "#Installing prerequisites...\n",
        "printf \"पूर्वापेक्षा की स्थापना... \"\n",
        "sudo apt install gawk flex bison php-iconv screen &>/dev/null\n",
        "#Done\n",
        "echo \"पूरित\"\n",
        " \n",
        "printf \"Hindawi2020 रिपॉजिटरी का क्लोन बनाया जा रहा है... \"\n",
        "git clone https://github.com/hindawiai/chintamani hindawi2020 &>/dev/null\n",
        "#Done\n",
        "echo \"पूरित\"\n",
        " \n",
        "if [ 0 -lt $(pip3 freeze | grep google.colab | wc -l) ]\n",
        "then\n",
        "  #Executing preamble for non-docker platforms...\n",
        "  echo \"गैर-डॉकर प्लेटफार्मों के लिए प्रस्तावना का निष्पादन...\"\n",
        "  cd hindawi2020\n",
        " \n",
        "  git checkout telugu\n",
        "\n",
        "  for n in Romenagri\\\n",
        "          Hindawi/guru Hindawi/hindrv Hindawi/kritrima Hindawi/praatha\\\n",
        "          Hindawi/shabda Hindawi/shraeni Hindawi/wyaaka Hindawi/yantra\\\n",
        "          Hindawi/others/fasm Hindawi/soochee;\n",
        "  do\n",
        "    pushd $n &>/dev/null\n",
        "    #Building in $n...\n",
        "    printf \"$n में निर्माण चल रहा है ... \"\n",
        "    make all &>/dev/null\n",
        "    make install &>/dev/null\n",
        "    make clean_all &>/dev/null\n",
        "    #Done\n",
        "    echo \"पूरित\"\n",
        "    popd &>/dev/null\n",
        "  done\n",
        "  #Completed preamble for non-docker platforms.\n",
        "  echo \"गैर-डॉकर प्लेटफॉर्म के लिए प्रस्तावना पूर्ण।\"\n",
        "fi\n",
        "#TBD: APCISR not built"
      ],
      "execution_count": 1,
      "outputs": [
        {
          "output_type": "stream",
          "name": "stdout",
          "text": [
            "पूर्वापेक्षा की स्थापना... पूरित\n",
            "Hindawi2020 रिपॉजिटरी का क्लोन बनाया जा रहा है... पूरित\n",
            "गैर-डॉकर प्लेटफार्मों के लिए प्रस्तावना का निष्पादन...\n",
            "Branch 'telugu' set up to track remote branch 'telugu' from 'origin'.\n",
            "Switched to a new branch 'telugu'\n",
            "Romenagri में निर्माण चल रहा है ... पूरित\n",
            "Hindawi/guru में निर्माण चल रहा है ... पूरित\n",
            "Hindawi/hindrv में निर्माण चल रहा है ... पूरित\n",
            "Hindawi/kritrima में निर्माण चल रहा है ... पूरित\n",
            "Hindawi/praatha में निर्माण चल रहा है ... पूरित\n",
            "Hindawi/shabda में निर्माण चल रहा है ... पूरित\n",
            "Hindawi/shraeni में निर्माण चल रहा है ... पूरित\n",
            "Hindawi/wyaaka में निर्माण चल रहा है ... पूरित\n",
            "Hindawi/yantra में निर्माण चल रहा है ... पूरित\n",
            "Hindawi/others/fasm में निर्माण चल रहा है ... पूरित\n",
            "Hindawi/soochee में निर्माण चल रहा है ... पूरित\n",
            "गैर-डॉकर प्लेटफॉर्म के लिए प्रस्तावना पूर्ण।\n"
          ]
        },
        {
          "output_type": "execute_result",
          "data": {
            "text/plain": [
              ""
            ]
          },
          "metadata": {},
          "execution_count": 1
        }
      ]
    },
    {
      "cell_type": "markdown",
      "metadata": {
        "id": "_UNM3EIkLDoq"
      },
      "source": [
        "# వివరణాత్మక వివరణ (Detailed description)"
      ]
    },
    {
      "cell_type": "code",
      "metadata": {
        "scrolled": false,
        "id": "8Dr6rgxZMKcy",
        "colab": {
          "base_uri": "https://localhost:8080/"
        },
        "cellView": "form",
        "outputId": "c6fd3b0b-046c-4c6a-e180-6bbc1b86e834"
      },
      "source": [
        "#@title **ప్రాథమిక శైలి యొక్క ప్రోగ్రామ్ ఎడిటింగ్(program editing)**\n",
        "#@markdown సవరించడానికి డబుల్ క్లిక్ చేయండి లేదా __enter__ నొక్కండి\n",
        "#@markdown <br>\n",
        "#@markdown Double-click or press __Enter__ to edit\n",
        "%%writefile hindawi2020/Hindawi/soochee/myPY.uhin\n",
        "# Program to check ఉంటే a number ఉంది prime లేదా కాదు\n",
        "\n",
        "num = 407\n",
        "\n",
        "# To take లోput నుండి the user\n",
        "#num = లోt(లోput(\"Enter a number: \"))\n",
        "\n",
        "# prime numbers are greater than 1\n",
        "ఉంటే num > 1:\n",
        "   # check కోసం factలేదాs\n",
        "   కోసం i లో range(2,num):\n",
        "       ఉంటే (num % i) == 0:\n",
        "           ముద్రించు(num,\"is not a prime number\")\n",
        "           ముద్రించు(i,\"times\",num//i,\"is\",num)\n",
        "           విడతీయు\n",
        "   వేరే:\n",
        "       ముద్రించు(num,\"is a prime number\")\n",
        "       \n",
        "# ఉంటే లోput number ఉంది less than\n",
        "# లేదా equal to 1, it ఉంది కాదు prime\n",
        "వేరే:\n",
        "   ముద్రించు(num,\"is not a prime number\")"
      ],
      "execution_count": 2,
      "outputs": [
        {
          "output_type": "stream",
          "name": "stdout",
          "text": [
            "Writing hindawi2020/Hindawi/soochee/myPY.uhin\n"
          ]
        }
      ]
    },
    {
      "cell_type": "code",
      "metadata": {
        "id": "oZLGaXPsMKdI",
        "colab": {
          "base_uri": "https://localhost:8080/"
        },
        "cellView": "form",
        "outputId": "f8695bcc-9a5c-4e32-8923-25d36cf18f54"
      },
      "source": [
        "#@title **శైలి ప్రాధమిక ఇన్పుట్ సవరణ(input editing)**\n",
        "#@markdown సవరించడానికి డబుల్ క్లిక్ చేయండి లేదా __Enter__ నొక్కండి\n",
        "#@markdown <br>\n",
        "#@markdown Double-click or press __Enter__ to edit\n",
        "%%writefile hindawi2020/Hindawi/soochee/inpPY.txt\n",
        "टिप्पणी Do not edit above this line\n",
        "टिप्पणी इस लाइन के ऊपर संशोधित न करें\n",
        "7"
      ],
      "execution_count": 3,
      "outputs": [
        {
          "output_type": "stream",
          "name": "stdout",
          "text": [
            "Writing hindawi2020/Hindawi/soochee/inpPY.txt\n"
          ]
        }
      ]
    },
    {
      "cell_type": "code",
      "metadata": {
        "id": "r0-TRzr3MKdQ",
        "colab": {
          "base_uri": "https://localhost:8080/"
        },
        "cellView": "form",
        "outputId": "b9d51132-80ec-41e3-8111-dd3952673608"
      },
      "source": [
        "%%shell\n",
        "#@title ### **స్టైల్ ప్రైమరీ యొక్క ప్రోగ్రామ్ ఎగ్జిక్యూషన్(program execution)**\n",
        "#@markdown ### ఈ నోట్బుక్ యొక్క ఫైల్ బ్రౌజర్ ఉపయోగించి కంపైల్డ్ ప్రోగ్రామ్ను డౌన్‌లోడ్ చేసుకోవచ్చు. ఫైల్ hin.exe\n",
        "#@markdown Compiled program can be downloaded using this notebook's file browser.\n",
        "#@markdown <br>\n",
        "#@markdown Look for the file hin.exe\n",
        "#Do not edit below this line\n",
        "#ఈ పంక్తి క్రింద సవరించవద్దు\n",
        "cd hindawi2020/Hindawi/soochee/\n",
        "./hinpy myPY.uhin\n",
        "#cat inpBASIC.txt | tail +3 | awk '{print}' | ./hin.exe\n"
      ],
      "execution_count": 4,
      "outputs": [
        {
          "output_type": "stream",
          "name": "stdout",
          "text": [
            "407 is not a prime number\n",
            "11 times 37 is 407\n"
          ]
        },
        {
          "output_type": "execute_result",
          "data": {
            "text/plain": [
              ""
            ]
          },
          "metadata": {},
          "execution_count": 4
        }
      ]
    }
  ]
}